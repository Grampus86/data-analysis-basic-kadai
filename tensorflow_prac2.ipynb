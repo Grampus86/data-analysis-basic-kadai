{
  "nbformat": 4,
  "nbformat_minor": 0,
  "metadata": {
    "colab": {
      "provenance": [],
      "toc_visible": true,
      "gpuType": "T4"
    },
    "kernelspec": {
      "name": "python3",
      "display_name": "Python 3"
    },
    "language_info": {
      "name": "python"
    },
    "accelerator": "GPU"
  },
  "cells": [
    {
      "cell_type": "markdown",
      "source": [
        "# 1 サンプルデータの取得"
      ],
      "metadata": {
        "id": "yTX1jRWZVMor"
      }
    },
    {
      "cell_type": "code",
      "execution_count": null,
      "metadata": {
        "id": "Tcj9lrc6Fcqk"
      },
      "outputs": [],
      "source": [
        "from tensorflow.keras import utils"
      ]
    },
    {
      "cell_type": "code",
      "source": [
        "utils.set_random_seed(0)"
      ],
      "metadata": {
        "id": "v1994CymH1bO"
      },
      "execution_count": null,
      "outputs": []
    },
    {
      "cell_type": "code",
      "source": [
        "import tensorflow as tf\n",
        "data=tf.keras.datasets.mnist.load_data()"
      ],
      "metadata": {
        "id": "xseFSqkiH3-s"
      },
      "execution_count": null,
      "outputs": []
    },
    {
      "cell_type": "code",
      "source": [
        "(x_train, y_train), (x_test, y_test) = data"
      ],
      "metadata": {
        "id": "GgAo-FLLIEmO"
      },
      "execution_count": null,
      "outputs": []
    },
    {
      "cell_type": "code",
      "source": [
        "print(x_train.shape, y_train.shape, x_test.shape, y_test.shape)"
      ],
      "metadata": {
        "colab": {
          "base_uri": "https://localhost:8080/"
        },
        "id": "LBpdS4qwITC1",
        "outputId": "70eb0a6f-8a03-4bb2-a5e6-7a321bbdf094"
      },
      "execution_count": null,
      "outputs": [
        {
          "output_type": "stream",
          "name": "stdout",
          "text": [
            "(60000, 28, 28) (60000,) (10000, 28, 28) (10000,)\n"
          ]
        }
      ]
    },
    {
      "cell_type": "code",
      "source": [
        "import numpy as np"
      ],
      "metadata": {
        "id": "DW6Fvky3IgBI"
      },
      "execution_count": null,
      "outputs": []
    },
    {
      "cell_type": "code",
      "source": [
        "print(np.amin(x_train), np.amax(x_train))\n",
        "print(np.amin(y_train), np.amax(y_train))\n",
        "print(np.amin(x_test), np.amax(x_test))\n",
        "print(np.amin(y_test), np.amax(y_test))"
      ],
      "metadata": {
        "colab": {
          "base_uri": "https://localhost:8080/"
        },
        "id": "-1mdjxfRIj2I",
        "outputId": "8f3e219d-9a1e-4d0c-b0f6-d9ca0a3e6f9b"
      },
      "execution_count": null,
      "outputs": [
        {
          "output_type": "stream",
          "name": "stdout",
          "text": [
            "0 255\n",
            "0 9\n",
            "0 255\n",
            "0 9\n"
          ]
        }
      ]
    },
    {
      "cell_type": "code",
      "source": [
        "x_train[2]"
      ],
      "metadata": {
        "colab": {
          "base_uri": "https://localhost:8080/",
          "height": 68
        },
        "id": "0hMFWk61I4Re",
        "outputId": "1b396771-14ff-4da2-be81-4f95954d7675"
      },
      "execution_count": null,
      "outputs": [
        {
          "output_type": "execute_result",
          "data": {
            "text/plain": [
              "array([[  0,   0,   0,   0,   0,   0,   0,   0,   0,   0,   0,   0,   0,\n",
              "          0,   0,   0,   0,   0,   0,   0,   0,   0,   0,   0,   0,   0,\n",
              "          0,   0],\n",
              "       [  0,   0,   0,   0,   0,   0,   0,   0,   0,   0,   0,   0,   0,\n",
              "          0,   0,   0,   0,   0,   0,   0,   0,   0,   0,   0,   0,   0,\n",
              "          0,   0],\n",
              "       [  0,   0,   0,   0,   0,   0,   0,   0,   0,   0,   0,   0,   0,\n",
              "          0,   0,   0,   0,   0,   0,   0,   0,   0,   0,   0,   0,   0,\n",
              "          0,   0],\n",
              "       [  0,   0,   0,   0,   0,   0,   0,   0,   0,   0,   0,   0,   0,\n",
              "          0,   0,   0,   0,   0,   0,   0,   0,   0,   0,   0,   0,   0,\n",
              "          0,   0],\n",
              "       [  0,   0,   0,   0,   0,   0,   0,   0,   0,   0,   0,   0,   0,\n",
              "          0,   0,   0,   0,   0,   0,   0,   0,   0,   0,   0,   0,   0,\n",
              "          0,   0],\n",
              "       [  0,   0,   0,   0,   0,   0,   0,   0,   0,   0,   0,   0,   0,\n",
              "          0,   0,   0,   0,   0,   0,   0,  67, 232,  39,   0,   0,   0,\n",
              "          0,   0],\n",
              "       [  0,   0,   0,   0,  62,  81,   0,   0,   0,   0,   0,   0,   0,\n",
              "          0,   0,   0,   0,   0,   0,   0, 120, 180,  39,   0,   0,   0,\n",
              "          0,   0],\n",
              "       [  0,   0,   0,   0, 126, 163,   0,   0,   0,   0,   0,   0,   0,\n",
              "          0,   0,   0,   0,   0,   0,   2, 153, 210,  40,   0,   0,   0,\n",
              "          0,   0],\n",
              "       [  0,   0,   0,   0, 220, 163,   0,   0,   0,   0,   0,   0,   0,\n",
              "          0,   0,   0,   0,   0,   0,  27, 254, 162,   0,   0,   0,   0,\n",
              "          0,   0],\n",
              "       [  0,   0,   0,   0, 222, 163,   0,   0,   0,   0,   0,   0,   0,\n",
              "          0,   0,   0,   0,   0,   0, 183, 254, 125,   0,   0,   0,   0,\n",
              "          0,   0],\n",
              "       [  0,   0,   0,  46, 245, 163,   0,   0,   0,   0,   0,   0,   0,\n",
              "          0,   0,   0,   0,   0,   0, 198, 254,  56,   0,   0,   0,   0,\n",
              "          0,   0],\n",
              "       [  0,   0,   0, 120, 254, 163,   0,   0,   0,   0,   0,   0,   0,\n",
              "          0,   0,   0,   0,   0,  23, 231, 254,  29,   0,   0,   0,   0,\n",
              "          0,   0],\n",
              "       [  0,   0,   0, 159, 254, 120,   0,   0,   0,   0,   0,   0,   0,\n",
              "          0,   0,   0,   0,   0, 163, 254, 216,  16,   0,   0,   0,   0,\n",
              "          0,   0],\n",
              "       [  0,   0,   0, 159, 254,  67,   0,   0,   0,   0,   0,   0,   0,\n",
              "          0,   0,  14,  86, 178, 248, 254,  91,   0,   0,   0,   0,   0,\n",
              "          0,   0],\n",
              "       [  0,   0,   0, 159, 254,  85,   0,   0,   0,  47,  49, 116, 144,\n",
              "        150, 241, 243, 234, 179, 241, 252,  40,   0,   0,   0,   0,   0,\n",
              "          0,   0],\n",
              "       [  0,   0,   0, 150, 253, 237, 207, 207, 207, 253, 254, 250, 240,\n",
              "        198, 143,  91,  28,   5, 233, 250,   0,   0,   0,   0,   0,   0,\n",
              "          0,   0],\n",
              "       [  0,   0,   0,   0, 119, 177, 177, 177, 177, 177,  98,  56,   0,\n",
              "          0,   0,   0,   0, 102, 254, 220,   0,   0,   0,   0,   0,   0,\n",
              "          0,   0],\n",
              "       [  0,   0,   0,   0,   0,   0,   0,   0,   0,   0,   0,   0,   0,\n",
              "          0,   0,   0,   0, 169, 254, 137,   0,   0,   0,   0,   0,   0,\n",
              "          0,   0],\n",
              "       [  0,   0,   0,   0,   0,   0,   0,   0,   0,   0,   0,   0,   0,\n",
              "          0,   0,   0,   0, 169, 254,  57,   0,   0,   0,   0,   0,   0,\n",
              "          0,   0],\n",
              "       [  0,   0,   0,   0,   0,   0,   0,   0,   0,   0,   0,   0,   0,\n",
              "          0,   0,   0,   0, 169, 254,  57,   0,   0,   0,   0,   0,   0,\n",
              "          0,   0],\n",
              "       [  0,   0,   0,   0,   0,   0,   0,   0,   0,   0,   0,   0,   0,\n",
              "          0,   0,   0,   0, 169, 255,  94,   0,   0,   0,   0,   0,   0,\n",
              "          0,   0],\n",
              "       [  0,   0,   0,   0,   0,   0,   0,   0,   0,   0,   0,   0,   0,\n",
              "          0,   0,   0,   0, 169, 254,  96,   0,   0,   0,   0,   0,   0,\n",
              "          0,   0],\n",
              "       [  0,   0,   0,   0,   0,   0,   0,   0,   0,   0,   0,   0,   0,\n",
              "          0,   0,   0,   0, 169, 254, 153,   0,   0,   0,   0,   0,   0,\n",
              "          0,   0],\n",
              "       [  0,   0,   0,   0,   0,   0,   0,   0,   0,   0,   0,   0,   0,\n",
              "          0,   0,   0,   0, 169, 255, 153,   0,   0,   0,   0,   0,   0,\n",
              "          0,   0],\n",
              "       [  0,   0,   0,   0,   0,   0,   0,   0,   0,   0,   0,   0,   0,\n",
              "          0,   0,   0,   0,  96, 254, 153,   0,   0,   0,   0,   0,   0,\n",
              "          0,   0],\n",
              "       [  0,   0,   0,   0,   0,   0,   0,   0,   0,   0,   0,   0,   0,\n",
              "          0,   0,   0,   0,   0,   0,   0,   0,   0,   0,   0,   0,   0,\n",
              "          0,   0],\n",
              "       [  0,   0,   0,   0,   0,   0,   0,   0,   0,   0,   0,   0,   0,\n",
              "          0,   0,   0,   0,   0,   0,   0,   0,   0,   0,   0,   0,   0,\n",
              "          0,   0],\n",
              "       [  0,   0,   0,   0,   0,   0,   0,   0,   0,   0,   0,   0,   0,\n",
              "          0,   0,   0,   0,   0,   0,   0,   0,   0,   0,   0,   0,   0,\n",
              "          0,   0]], dtype=uint8)"
            ],
            "text/html": [
              "<style>\n",
              "      .ndarray_repr .ndarray_raw_data {\n",
              "        display: none;\n",
              "      }\n",
              "      .ndarray_repr.show_array .ndarray_raw_data {\n",
              "        display: block;\n",
              "      }\n",
              "      .ndarray_repr.show_array .ndarray_image_preview {\n",
              "        display: none;\n",
              "      }\n",
              "      </style>\n",
              "      <div id=\"id-6664efaa-3a02-4bf9-a8e7-38587104080a\" class=\"ndarray_repr\"><pre>ndarray (28, 28) <button style=\"padding: 0 2px;\">show data</button></pre><img src=\"data:image/png;base64,iVBORw0KGgoAAAANSUhEUgAAABwAAAAcCAAAAABXZoBIAAAA1ElEQVR4nGNgGArA+YU6AwMDAwMTAwMDg10gqqTpGQaEpEMQihyTohwjgndnMYqk9L9FSDqZUE2dw3AbIaknjirJz7AbIenFiSInrsjwFCGpznAVWbJH/NZnCIuFgYGBgeE0XIbPI8aNofkDsqQQAwODPpOzDFs00/eTP1nOQlUyMjAwTEv/8IiBQY/xz7drJ88cfPlEkI0BoTProRUDA8OjjddOMDAwMKSJ3mPACVb+64QxmbBIb8AnyYBHklEVj+R/JjySDJb4jMVj5/b/OB1IJQAAg3ksR3QPgSAAAAAASUVORK5CYII=\" class=\"ndarray_image_preview\" /><pre class=\"ndarray_raw_data\">array([[  0,   0,   0,   0,   0,   0,   0,   0,   0,   0,   0,   0,   0,\n",
              "          0,   0,   0,   0,   0,   0,   0,   0,   0,   0,   0,   0,   0,\n",
              "          0,   0],\n",
              "       [  0,   0,   0,   0,   0,   0,   0,   0,   0,   0,   0,   0,   0,\n",
              "          0,   0,   0,   0,   0,   0,   0,   0,   0,   0,   0,   0,   0,\n",
              "          0,   0],\n",
              "       [  0,   0,   0,   0,   0,   0,   0,   0,   0,   0,   0,   0,   0,\n",
              "          0,   0,   0,   0,   0,   0,   0,   0,   0,   0,   0,   0,   0,\n",
              "          0,   0],\n",
              "       [  0,   0,   0,   0,   0,   0,   0,   0,   0,   0,   0,   0,   0,\n",
              "          0,   0,   0,   0,   0,   0,   0,   0,   0,   0,   0,   0,   0,\n",
              "          0,   0],\n",
              "       [  0,   0,   0,   0,   0,   0,   0,   0,   0,   0,   0,   0,   0,\n",
              "          0,   0,   0,   0,   0,   0,   0,   0,   0,   0,   0,   0,   0,\n",
              "          0,   0],\n",
              "       [  0,   0,   0,   0,   0,   0,   0,   0,   0,   0,   0,   0,   0,\n",
              "          0,   0,   0,   0,   0,   0,   0,  67, 232,  39,   0,   0,   0,\n",
              "          0,   0],\n",
              "       [  0,   0,   0,   0,  62,  81,   0,   0,   0,   0,   0,   0,   0,\n",
              "          0,   0,   0,   0,   0,   0,   0, 120, 180,  39,   0,   0,   0,\n",
              "          0,   0],\n",
              "       [  0,   0,   0,   0, 126, 163,   0,   0,   0,   0,   0,   0,   0,\n",
              "          0,   0,   0,   0,   0,   0,   2, 153, 210,  40,   0,   0,   0,\n",
              "          0,   0],\n",
              "       [  0,   0,   0,   0, 220, 163,   0,   0,   0,   0,   0,   0,   0,\n",
              "          0,   0,   0,   0,   0,   0,  27, 254, 162,   0,   0,   0,   0,\n",
              "          0,   0],\n",
              "       [  0,   0,   0,   0, 222, 163,   0,   0,   0,   0,   0,   0,   0,\n",
              "          0,   0,   0,   0,   0,   0, 183, 254, 125,   0,   0,   0,   0,\n",
              "          0,   0],\n",
              "       [  0,   0,   0,  46, 245, 163,   0,   0,   0,   0,   0,   0,   0,\n",
              "          0,   0,   0,   0,   0,   0, 198, 254,  56,   0,   0,   0,   0,\n",
              "          0,   0],\n",
              "       [  0,   0,   0, 120, 254, 163,   0,   0,   0,   0,   0,   0,   0,\n",
              "          0,   0,   0,   0,   0,  23, 231, 254,  29,   0,   0,   0,   0,\n",
              "          0,   0],\n",
              "       [  0,   0,   0, 159, 254, 120,   0,   0,   0,   0,   0,   0,   0,\n",
              "          0,   0,   0,   0,   0, 163, 254, 216,  16,   0,   0,   0,   0,\n",
              "          0,   0],\n",
              "       [  0,   0,   0, 159, 254,  67,   0,   0,   0,   0,   0,   0,   0,\n",
              "          0,   0,  14,  86, 178, 248, 254,  91,   0,   0,   0,   0,   0,\n",
              "          0,   0],\n",
              "       [  0,   0,   0, 159, 254,  85,   0,   0,   0,  47,  49, 116, 144,\n",
              "        150, 241, 243, 234, 179, 241, 252,  40,   0,   0,   0,   0,   0,\n",
              "          0,   0],\n",
              "       [  0,   0,   0, 150, 253, 237, 207, 207, 207, 253, 254, 250, 240,\n",
              "        198, 143,  91,  28,   5, 233, 250,   0,   0,   0,   0,   0,   0,\n",
              "          0,   0],\n",
              "       [  0,   0,   0,   0, 119, 177, 177, 177, 177, 177,  98,  56,   0,\n",
              "          0,   0,   0,   0, 102, 254, 220,   0,   0,   0,   0,   0,   0,\n",
              "          0,   0],\n",
              "       [  0,   0,   0,   0,   0,   0,   0,   0,   0,   0,   0,   0,   0,\n",
              "          0,   0,   0,   0, 169, 254, 137,   0,   0,   0,   0,   0,   0,\n",
              "          0,   0],\n",
              "       [  0,   0,   0,   0,   0,   0,   0,   0,   0,   0,   0,   0,   0,\n",
              "          0,   0,   0,   0, 169, 254,  57,   0,   0,   0,   0,   0,   0,\n",
              "          0,   0],\n",
              "       [  0,   0,   0,   0,   0,   0,   0,   0,   0,   0,   0,   0,   0,\n",
              "          0,   0,   0,   0, 169, 254,  57,   0,   0,   0,   0,   0,   0,\n",
              "          0,   0],\n",
              "       [  0,   0,   0,   0,   0,   0,   0,   0,   0,   0,   0,   0,   0,\n",
              "          0,   0,   0,   0, 169, 255,  94,   0,   0,   0,   0,   0,   0,\n",
              "          0,   0],\n",
              "       [  0,   0,   0,   0,   0,   0,   0,   0,   0,   0,   0,   0,   0,\n",
              "          0,   0,   0,   0, 169, 254,  96,   0,   0,   0,   0,   0,   0,\n",
              "          0,   0],\n",
              "       [  0,   0,   0,   0,   0,   0,   0,   0,   0,   0,   0,   0,   0,\n",
              "          0,   0,   0,   0, 169, 254, 153,   0,   0,   0,   0,   0,   0,\n",
              "          0,   0],\n",
              "       [  0,   0,   0,   0,   0,   0,   0,   0,   0,   0,   0,   0,   0,\n",
              "          0,   0,   0,   0, 169, 255, 153,   0,   0,   0,   0,   0,   0,\n",
              "          0,   0],\n",
              "       [  0,   0,   0,   0,   0,   0,   0,   0,   0,   0,   0,   0,   0,\n",
              "          0,   0,   0,   0,  96, 254, 153,   0,   0,   0,   0,   0,   0,\n",
              "          0,   0],\n",
              "       [  0,   0,   0,   0,   0,   0,   0,   0,   0,   0,   0,   0,   0,\n",
              "          0,   0,   0,   0,   0,   0,   0,   0,   0,   0,   0,   0,   0,\n",
              "          0,   0],\n",
              "       [  0,   0,   0,   0,   0,   0,   0,   0,   0,   0,   0,   0,   0,\n",
              "          0,   0,   0,   0,   0,   0,   0,   0,   0,   0,   0,   0,   0,\n",
              "          0,   0],\n",
              "       [  0,   0,   0,   0,   0,   0,   0,   0,   0,   0,   0,   0,   0,\n",
              "          0,   0,   0,   0,   0,   0,   0,   0,   0,   0,   0,   0,   0,\n",
              "          0,   0]], dtype=uint8)</pre></div><script>\n",
              "      (() => {\n",
              "      const titles = ['show data', 'hide data'];\n",
              "      let index = 0\n",
              "      document.querySelector('#id-6664efaa-3a02-4bf9-a8e7-38587104080a button').onclick = (e) => {\n",
              "        document.querySelector('#id-6664efaa-3a02-4bf9-a8e7-38587104080a').classList.toggle('show_array');\n",
              "        index = (++index) % 2;\n",
              "        document.querySelector('#id-6664efaa-3a02-4bf9-a8e7-38587104080a button').textContent = titles[index];\n",
              "        e.preventDefault();\n",
              "        e.stopPropagation();\n",
              "      }\n",
              "      })();\n",
              "    </script>"
            ]
          },
          "metadata": {},
          "execution_count": 8
        }
      ]
    },
    {
      "cell_type": "code",
      "source": [
        "import matplotlib.pyplot as plt\n",
        "plt.imshow(x_train[2], cmap='gray')"
      ],
      "metadata": {
        "colab": {
          "base_uri": "https://localhost:8080/",
          "height": 448
        },
        "id": "OZ_5vliyJH2Z",
        "outputId": "9c1c977c-da1d-4b48-d5c0-97925880a885"
      },
      "execution_count": null,
      "outputs": [
        {
          "output_type": "execute_result",
          "data": {
            "text/plain": [
              "<matplotlib.image.AxesImage at 0x7f532b83ef80>"
            ]
          },
          "metadata": {},
          "execution_count": 9
        },
        {
          "output_type": "display_data",
          "data": {
            "text/plain": [
              "<Figure size 640x480 with 1 Axes>"
            ],
            "image/png": "[encoded data removed]"
          },
          "metadata": {}
        }
      ]
    },
    {
      "cell_type": "code",
      "source": [
        "y_train[2]"
      ],
      "metadata": {
        "colab": {
          "base_uri": "https://localhost:8080/"
        },
        "id": "OHRSJyIAJT4W",
        "outputId": "9e1100ac-b568-4e7a-b460-1998fde1fe21"
      },
      "execution_count": null,
      "outputs": [
        {
          "output_type": "execute_result",
          "data": {
            "text/plain": [
              "4"
            ]
          },
          "metadata": {},
          "execution_count": 10
        }
      ]
    },
    {
      "cell_type": "code",
      "source": [
        "x_train = x_train/255\n",
        "x_test = x_test/255"
      ],
      "metadata": {
        "id": "XrdSEsJJJonh"
      },
      "execution_count": null,
      "outputs": []
    },
    {
      "cell_type": "code",
      "source": [
        "y_train = utils.to_categorical(y_train)\n",
        "y_test = utils.to_categorical(y_test)"
      ],
      "metadata": {
        "id": "YW0f78G6JuvX"
      },
      "execution_count": null,
      "outputs": []
    },
    {
      "cell_type": "code",
      "source": [
        "y_train[2]"
      ],
      "metadata": {
        "colab": {
          "base_uri": "https://localhost:8080/"
        },
        "id": "xT_PDwK5KQLj",
        "outputId": "ac8d81aa-7ffb-468b-a90d-6d5c4cf4d9af"
      },
      "execution_count": null,
      "outputs": [
        {
          "output_type": "execute_result",
          "data": {
            "text/plain": [
              "array([0., 0., 0., 0., 1., 0., 0., 0., 0., 0.], dtype=float32)"
            ]
          },
          "metadata": {},
          "execution_count": 13
        }
      ]
    },
    {
      "cell_type": "markdown",
      "source": [
        "# 2 ニューラルネットワーク構造の定義"
      ],
      "metadata": {
        "id": "_05Hlu-_KrH1"
      }
    },
    {
      "cell_type": "code",
      "source": [
        "from tensorflow.keras.models import Sequential\n",
        "from tensorflow.keras.layers import Flatten, Dense"
      ],
      "metadata": {
        "id": "_N2ccRxBKTuf"
      },
      "execution_count": null,
      "outputs": []
    },
    {
      "cell_type": "markdown",
      "source": [
        "## 2.1 層の定義\n",
        "層を追加する時はaddメゾットで追加する"
      ],
      "metadata": {
        "id": "H_MENO6mKroO"
      }
    },
    {
      "cell_type": "code",
      "source": [
        "def exec_model_fit(x_train, y_train, input_shape_row, input_shape_col, hidden_layer_node, output_layer_node, batch_size=32, epochs=10, validation_split=0.1):\n",
        "    utils.set_random_seed(0)\n",
        "\n",
        "    model = Sequential()\n",
        "    # 入力層　28x28ピクセルのデータを入力\n",
        "\n",
        "    # Flatten()入力データを1次元データに変換する層\n",
        "    model.add(Flatten(input_shape=(input_shape_row, input_shape_col)))\n",
        "\n",
        "    # 隠れ層 活性化関数:ReLU関数(正の値はそのまま、負の値は0に変換)\n",
        "    model.add(Dense(hidden_layer_node, activation='relu'))\n",
        "\n",
        "    # 出力層 活性化関数:ソフトマックス関数(全てのノード値を足して1にする)\n",
        "    model.add(Dense(output_layer_node, activation='softmax'))\n",
        "\n",
        "    model.compile(loss='categorical_crossentropy',\n",
        "              optimizer='adam',\n",
        "              metrics='accuracy')\n",
        "\n",
        "    history=model.fit(x_train, y_train,\n",
        "                  batch_size=batch_size,\n",
        "                  epochs=epochs,\n",
        "                  validation_split=validation_split)\n",
        "    return model, history"
      ],
      "metadata": {
        "id": "I7lJPrbXKxN8"
      },
      "execution_count": null,
      "outputs": []
    },
    {
      "cell_type": "code",
      "source": [
        "import matplotlib.pyplot as plt\n",
        "import seaborn as sns\n",
        "\n",
        "def plot_result(df):\n",
        "    fig, axes = plt.subplots(1, 2, figsize=(9, 4))  # 1行2列のサブプロットを作成\n",
        "    sns.lineplot(data=df[['loss', 'val_loss']], ax=axes[0])  # 1番目のサブプロットにlossとval_lossの折れ線グラフを描画\n",
        "    sns.lineplot(data=df[['accuracy', 'val_accuracy']], ax=axes[1])  # 2番目のサブプロットにaccuracyとval_accuracyの折れ線グラフを描画\n",
        "    plt.show()"
      ],
      "metadata": {
        "id": "w85SG9ZFZoVh"
      },
      "execution_count": null,
      "outputs": []
    },
    {
      "cell_type": "markdown",
      "source": [
        "## 2.2 エポック数=10"
      ],
      "metadata": {
        "id": "xifvMxr0ZXqd"
      }
    },
    {
      "cell_type": "code",
      "source": [
        "import pandas as pd\n",
        "\n",
        "model, history = exec_model_fit(x_train, y_train, 28, 28, 32, 10, epochs=10)\n",
        "df = pd.DataFrame(history.history)\n",
        "df"
      ],
      "metadata": {
        "colab": {
          "base_uri": "https://localhost:8080/",
          "height": 720
        },
        "id": "DR4Wdr3fZGQB",
        "outputId": "7173c5d8-70bf-4b6e-fe3d-859fc2f52460"
      },
      "execution_count": null,
      "outputs": [
        {
          "output_type": "stream",
          "name": "stdout",
          "text": [
            "Epoch 1/10\n",
            "1688/1688 [==============================] - 8s 4ms/step - loss: 0.3826 - accuracy: 0.8931 - val_loss: 0.2028 - val_accuracy: 0.9427\n",
            "Epoch 2/10\n",
            "1688/1688 [==============================] - 8s 5ms/step - loss: 0.2117 - accuracy: 0.9386 - val_loss: 0.1565 - val_accuracy: 0.9577\n",
            "Epoch 3/10\n",
            "1688/1688 [==============================] - 6s 3ms/step - loss: 0.1647 - accuracy: 0.9520 - val_loss: 0.1322 - val_accuracy: 0.9633\n",
            "Epoch 4/10\n",
            "1688/1688 [==============================] - 4s 2ms/step - loss: 0.1375 - accuracy: 0.9592 - val_loss: 0.1246 - val_accuracy: 0.9645\n",
            "Epoch 5/10\n",
            "1688/1688 [==============================] - 5s 3ms/step - loss: 0.1185 - accuracy: 0.9650 - val_loss: 0.1197 - val_accuracy: 0.9623\n",
            "Epoch 6/10\n",
            "1688/1688 [==============================] - 4s 3ms/step - loss: 0.1051 - accuracy: 0.9683 - val_loss: 0.1074 - val_accuracy: 0.9662\n",
            "Epoch 7/10\n",
            "1688/1688 [==============================] - 5s 3ms/step - loss: 0.0932 - accuracy: 0.9718 - val_loss: 0.1121 - val_accuracy: 0.9685\n",
            "Epoch 8/10\n",
            "1688/1688 [==============================] - 5s 3ms/step - loss: 0.0845 - accuracy: 0.9740 - val_loss: 0.1079 - val_accuracy: 0.9687\n",
            "Epoch 9/10\n",
            "1688/1688 [==============================] - 3s 2ms/step - loss: 0.0772 - accuracy: 0.9759 - val_loss: 0.1066 - val_accuracy: 0.9695\n",
            "Epoch 10/10\n",
            "1688/1688 [==============================] - 5s 3ms/step - loss: 0.0708 - accuracy: 0.9782 - val_loss: 0.1097 - val_accuracy: 0.9682\n"
          ]
        },
        {
          "output_type": "execute_result",
          "data": {
            "text/plain": [
              "       loss  accuracy  val_loss  val_accuracy\n",
              "0  0.382565  0.893130  0.202841      0.942667\n",
              "1  0.211719  0.938611  0.156531      0.957667\n",
              "2  0.164680  0.952000  0.132192      0.963333\n",
              "3  0.137453  0.959167  0.124586      0.964500\n",
              "4  0.118501  0.965037  0.119672      0.962333\n",
              "5  0.105069  0.968259  0.107368      0.966167\n",
              "6  0.093183  0.971778  0.112052      0.968500\n",
              "7  0.084464  0.973963  0.107929      0.968667\n",
              "8  0.077238  0.975944  0.106632      0.969500\n",
              "9  0.070788  0.978167  0.109742      0.968167"
            ],
            "text/html": [
              "\n",
              "  <div id=\"df-a6baeb1d-77e6-49fb-b8ff-1dccb2396041\" class=\"colab-df-container\">\n",
              "    <div>\n",
              "<style scoped>\n",
              "    .dataframe tbody tr th:only-of-type {\n",
              "        vertical-align: middle;\n",
              "    }\n",
              "\n",
              "    .dataframe tbody tr th {\n",
              "        vertical-align: top;\n",
              "    }\n",
              "\n",
              "    .dataframe thead th {\n",
              "        text-align: right;\n",
              "    }\n",
              "</style>\n",
              "<table border=\"1\" class=\"dataframe\">\n",
              "  <thead>\n",
              "    <tr style=\"text-align: right;\">\n",
              "      <th></th>\n",
              "      <th>loss</th>\n",
              "      <th>accuracy</th>\n",
              "      <th>val_loss</th>\n",
              "      <th>val_accuracy</th>\n",
              "    </tr>\n",
              "  </thead>\n",
              "  <tbody>\n",
              "    <tr>\n",
              "      <th>0</th>\n",
              "      <td>0.382565</td>\n",
              "      <td>0.893130</td>\n",
              "      <td>0.202841</td>\n",
              "      <td>0.942667</td>\n",
              "    </tr>\n",
              "    <tr>\n",
              "      <th>1</th>\n",
              "      <td>0.211719</td>\n",
              "      <td>0.938611</td>\n",
              "      <td>0.156531</td>\n",
              "      <td>0.957667</td>\n",
              "    </tr>\n",
              "    <tr>\n",
              "      <th>2</th>\n",
              "      <td>0.164680</td>\n",
              "      <td>0.952000</td>\n",
              "      <td>0.132192</td>\n",
              "      <td>0.963333</td>\n",
              "    </tr>\n",
              "    <tr>\n",
              "      <th>3</th>\n",
              "      <td>0.137453</td>\n",
              "      <td>0.959167</td>\n",
              "      <td>0.124586</td>\n",
              "      <td>0.964500</td>\n",
              "    </tr>\n",
              "    <tr>\n",
              "      <th>4</th>\n",
              "      <td>0.118501</td>\n",
              "      <td>0.965037</td>\n",
              "      <td>0.119672</td>\n",
              "      <td>0.962333</td>\n",
              "    </tr>\n",
              "    <tr>\n",
              "      <th>5</th>\n",
              "      <td>0.105069</td>\n",
              "      <td>0.968259</td>\n",
              "      <td>0.107368</td>\n",
              "      <td>0.966167</td>\n",
              "    </tr>\n",
              "    <tr>\n",
              "      <th>6</th>\n",
              "      <td>0.093183</td>\n",
              "      <td>0.971778</td>\n",
              "      <td>0.112052</td>\n",
              "      <td>0.968500</td>\n",
              "    </tr>\n",
              "    <tr>\n",
              "      <th>7</th>\n",
              "      <td>0.084464</td>\n",
              "      <td>0.973963</td>\n",
              "      <td>0.107929</td>\n",
              "      <td>0.968667</td>\n",
              "    </tr>\n",
              "    <tr>\n",
              "      <th>8</th>\n",
              "      <td>0.077238</td>\n",
              "      <td>0.975944</td>\n",
              "      <td>0.106632</td>\n",
              "      <td>0.969500</td>\n",
              "    </tr>\n",
              "    <tr>\n",
              "      <th>9</th>\n",
              "      <td>0.070788</td>\n",
              "      <td>0.978167</td>\n",
              "      <td>0.109742</td>\n",
              "      <td>0.968167</td>\n",
              "    </tr>\n",
              "  </tbody>\n",
              "</table>\n",
              "</div>\n",
              "    <div class=\"colab-df-buttons\">\n",
              "\n",
              "  <div class=\"colab-df-container\">\n",
              "    <button class=\"colab-df-convert\" onclick=\"convertToInteractive('df-a6baeb1d-77e6-49fb-b8ff-1dccb2396041')\"\n",
              "            title=\"Convert this dataframe to an interactive table.\"\n",
              "            style=\"display:none;\">\n",
              "\n",
              "  <svg xmlns=\"http://www.w3.org/2000/svg\" height=\"24px\" viewBox=\"0 -960 960 960\">\n",
              "    <path d=\"M120-120v-720h720v720H120Zm60-500h600v-160H180v160Zm220 220h160v-160H400v160Zm0 220h160v-160H400v160ZM180-400h160v-160H180v160Zm440 0h160v-160H620v160ZM180-180h160v-160H180v160Zm440 0h160v-160H620v160Z\"/>\n",
              "  </svg>\n",
              "    </button>\n",
              "\n",
              "  <style>\n",
              "    .colab-df-container {\n",
              "      display:flex;\n",
              "      gap: 12px;\n",
              "    }\n",
              "\n",
              "    .colab-df-convert {\n",
              "      background-color: #E8F0FE;\n",
              "      border: none;\n",
              "      border-radius: 50%;\n",
              "      cursor: pointer;\n",
              "      display: none;\n",
              "      fill: #1967D2;\n",
              "      height: 32px;\n",
              "      padding: 0 0 0 0;\n",
              "      width: 32px;\n",
              "    }\n",
              "\n",
              "    .colab-df-convert:hover {\n",
              "      background-color: #E2EBFA;\n",
              "      box-shadow: 0px 1px 2px rgba(60, 64, 67, 0.3), 0px 1px 3px 1px rgba(60, 64, 67, 0.15);\n",
              "      fill: #174EA6;\n",
              "    }\n",
              "\n",
              "    .colab-df-buttons div {\n",
              "      margin-bottom: 4px;\n",
              "    }\n",
              "\n",
              "    [theme=dark] .colab-df-convert {\n",
              "      background-color: #3B4455;\n",
              "      fill: #D2E3FC;\n",
              "    }\n",
              "\n",
              "    [theme=dark] .colab-df-convert:hover {\n",
              "      background-color: #434B5C;\n",
              "      box-shadow: 0px 1px 3px 1px rgba(0, 0, 0, 0.15);\n",
              "      filter: drop-shadow(0px 1px 2px rgba(0, 0, 0, 0.3));\n",
              "      fill: #FFFFFF;\n",
              "    }\n",
              "  </style>\n",
              "\n",
              "    <script>\n",
              "      const buttonEl =\n",
              "        document.querySelector('#df-a6baeb1d-77e6-49fb-b8ff-1dccb2396041 button.colab-df-convert');\n",
              "      buttonEl.style.display =\n",
              "        google.colab.kernel.accessAllowed ? 'block' : 'none';\n",
              "\n",
              "      async function convertToInteractive(key) {\n",
              "        const element = document.querySelector('#df-a6baeb1d-77e6-49fb-b8ff-1dccb2396041');\n",
              "        const dataTable =\n",
              "          await google.colab.kernel.invokeFunction('convertToInteractive',\n",
              "                                                    [key], {});\n",
              "        if (!dataTable) return;\n",
              "\n",
              "        const docLinkHtml = 'Like what you see? Visit the ' +\n",
              "          '<a target=\"_blank\" href=https://colab.research.google.com/notebooks/data_table.ipynb>data table notebook</a>'\n",
              "          + ' to learn more about interactive tables.';\n",
              "        element.innerHTML = '';\n",
              "        dataTable['output_type'] = 'display_data';\n",
              "        await google.colab.output.renderOutput(dataTable, element);\n",
              "        const docLink = document.createElement('div');\n",
              "        docLink.innerHTML = docLinkHtml;\n",
              "        element.appendChild(docLink);\n",
              "      }\n",
              "    </script>\n",
              "  </div>\n",
              "\n",
              "\n",
              "<div id=\"df-71680552-204c-41c0-83c3-b28a1c623576\">\n",
              "  <button class=\"colab-df-quickchart\" onclick=\"quickchart('df-71680552-204c-41c0-83c3-b28a1c623576')\"\n",
              "            title=\"Suggest charts\"\n",
              "            style=\"display:none;\">\n",
              "\n",
              "<svg xmlns=\"http://www.w3.org/2000/svg\" height=\"24px\"viewBox=\"0 0 24 24\"\n",
              "     width=\"24px\">\n",
              "    <g>\n",
              "        <path d=\"M19 3H5c-1.1 0-2 .9-2 2v14c0 1.1.9 2 2 2h14c1.1 0 2-.9 2-2V5c0-1.1-.9-2-2-2zM9 17H7v-7h2v7zm4 0h-2V7h2v10zm4 0h-2v-4h2v4z\"/>\n",
              "    </g>\n",
              "</svg>\n",
              "  </button>\n",
              "\n",
              "<style>\n",
              "  .colab-df-quickchart {\n",
              "      --bg-color: #E8F0FE;\n",
              "      --fill-color: #1967D2;\n",
              "      --hover-bg-color: #E2EBFA;\n",
              "      --hover-fill-color: #174EA6;\n",
              "      --disabled-fill-color: #AAA;\n",
              "      --disabled-bg-color: #DDD;\n",
              "  }\n",
              "\n",
              "  [theme=dark] .colab-df-quickchart {\n",
              "      --bg-color: #3B4455;\n",
              "      --fill-color: #D2E3FC;\n",
              "      --hover-bg-color: #434B5C;\n",
              "      --hover-fill-color: #FFFFFF;\n",
              "      --disabled-bg-color: #3B4455;\n",
              "      --disabled-fill-color: #666;\n",
              "  }\n",
              "\n",
              "  .colab-df-quickchart {\n",
              "    background-color: var(--bg-color);\n",
              "    border: none;\n",
              "    border-radius: 50%;\n",
              "    cursor: pointer;\n",
              "    display: none;\n",
              "    fill: var(--fill-color);\n",
              "    height: 32px;\n",
              "    padding: 0;\n",
              "    width: 32px;\n",
              "  }\n",
              "\n",
              "  .colab-df-quickchart:hover {\n",
              "    background-color: var(--hover-bg-color);\n",
              "    box-shadow: 0 1px 2px rgba(60, 64, 67, 0.3), 0 1px 3px 1px rgba(60, 64, 67, 0.15);\n",
              "    fill: var(--button-hover-fill-color);\n",
              "  }\n",
              "\n",
              "  .colab-df-quickchart-complete:disabled,\n",
              "  .colab-df-quickchart-complete:disabled:hover {\n",
              "    background-color: var(--disabled-bg-color);\n",
              "    fill: var(--disabled-fill-color);\n",
              "    box-shadow: none;\n",
              "  }\n",
              "\n",
              "  .colab-df-spinner {\n",
              "    border: 2px solid var(--fill-color);\n",
              "    border-color: transparent;\n",
              "    border-bottom-color: var(--fill-color);\n",
              "    animation:\n",
              "      spin 1s steps(1) infinite;\n",
              "  }\n",
              "\n",
              "  @keyframes spin {\n",
              "    0% {\n",
              "      border-color: transparent;\n",
              "      border-bottom-color: var(--fill-color);\n",
              "      border-left-color: var(--fill-color);\n",
              "    }\n",
              "    20% {\n",
              "      border-color: transparent;\n",
              "      border-left-color: var(--fill-color);\n",
              "      border-top-color: var(--fill-color);\n",
              "    }\n",
              "    30% {\n",
              "      border-color: transparent;\n",
              "      border-left-color: var(--fill-color);\n",
              "      border-top-color: var(--fill-color);\n",
              "      border-right-color: var(--fill-color);\n",
              "    }\n",
              "    40% {\n",
              "      border-color: transparent;\n",
              "      border-right-color: var(--fill-color);\n",
              "      border-top-color: var(--fill-color);\n",
              "    }\n",
              "    60% {\n",
              "      border-color: transparent;\n",
              "      border-right-color: var(--fill-color);\n",
              "    }\n",
              "    80% {\n",
              "      border-color: transparent;\n",
              "      border-right-color: var(--fill-color);\n",
              "      border-bottom-color: var(--fill-color);\n",
              "    }\n",
              "    90% {\n",
              "      border-color: transparent;\n",
              "      border-bottom-color: var(--fill-color);\n",
              "    }\n",
              "  }\n",
              "</style>\n",
              "\n",
              "  <script>\n",
              "    async function quickchart(key) {\n",
              "      const quickchartButtonEl =\n",
              "        document.querySelector('#' + key + ' button');\n",
              "      quickchartButtonEl.disabled = true;  // To prevent multiple clicks.\n",
              "      quickchartButtonEl.classList.add('colab-df-spinner');\n",
              "      try {\n",
              "        const charts = await google.colab.kernel.invokeFunction(\n",
              "            'suggestCharts', [key], {});\n",
              "      } catch (error) {\n",
              "        console.error('Error during call to suggestCharts:', error);\n",
              "      }\n",
              "      quickchartButtonEl.classList.remove('colab-df-spinner');\n",
              "      quickchartButtonEl.classList.add('colab-df-quickchart-complete');\n",
              "    }\n",
              "    (() => {\n",
              "      let quickchartButtonEl =\n",
              "        document.querySelector('#df-71680552-204c-41c0-83c3-b28a1c623576 button');\n",
              "      quickchartButtonEl.style.display =\n",
              "        google.colab.kernel.accessAllowed ? 'block' : 'none';\n",
              "    })();\n",
              "  </script>\n",
              "</div>\n",
              "\n",
              "  <div id=\"id_769f7489-ff05-48c1-87da-6d65160111e2\">\n",
              "    <style>\n",
              "      .colab-df-generate {\n",
              "        background-color: #E8F0FE;\n",
              "        border: none;\n",
              "        border-radius: 50%;\n",
              "        cursor: pointer;\n",
              "        display: none;\n",
              "        fill: #1967D2;\n",
              "        height: 32px;\n",
              "        padding: 0 0 0 0;\n",
              "        width: 32px;\n",
              "      }\n",
              "\n",
              "      .colab-df-generate:hover {\n",
              "        background-color: #E2EBFA;\n",
              "        box-shadow: 0px 1px 2px rgba(60, 64, 67, 0.3), 0px 1px 3px 1px rgba(60, 64, 67, 0.15);\n",
              "        fill: #174EA6;\n",
              "      }\n",
              "\n",
              "      [theme=dark] .colab-df-generate {\n",
              "        background-color: #3B4455;\n",
              "        fill: #D2E3FC;\n",
              "      }\n",
              "\n",
              "      [theme=dark] .colab-df-generate:hover {\n",
              "        background-color: #434B5C;\n",
              "        box-shadow: 0px 1px 3px 1px rgba(0, 0, 0, 0.15);\n",
              "        filter: drop-shadow(0px 1px 2px rgba(0, 0, 0, 0.3));\n",
              "        fill: #FFFFFF;\n",
              "      }\n",
              "    </style>\n",
              "    <button class=\"colab-df-generate\" onclick=\"generateWithVariable('df')\"\n",
              "            title=\"Generate code using this dataframe.\"\n",
              "            style=\"display:none;\">\n",
              "\n",
              "  <svg xmlns=\"http://www.w3.org/2000/svg\" height=\"24px\"viewBox=\"0 0 24 24\"\n",
              "       width=\"24px\">\n",
              "    <path d=\"M7,19H8.4L18.45,9,17,7.55,7,17.6ZM5,21V16.75L18.45,3.32a2,2,0,0,1,2.83,0l1.4,1.43a1.91,1.91,0,0,1,.58,1.4,1.91,1.91,0,0,1-.58,1.4L9.25,21ZM18.45,9,17,7.55Zm-12,3A5.31,5.31,0,0,0,4.9,8.1,5.31,5.31,0,0,0,1,6.5,5.31,5.31,0,0,0,4.9,4.9,5.31,5.31,0,0,0,6.5,1,5.31,5.31,0,0,0,8.1,4.9,5.31,5.31,0,0,0,12,6.5,5.46,5.46,0,0,0,6.5,12Z\"/>\n",
              "  </svg>\n",
              "    </button>\n",
              "    <script>\n",
              "      (() => {\n",
              "      const buttonEl =\n",
              "        document.querySelector('#id_769f7489-ff05-48c1-87da-6d65160111e2 button.colab-df-generate');\n",
              "      buttonEl.style.display =\n",
              "        google.colab.kernel.accessAllowed ? 'block' : 'none';\n",
              "\n",
              "      buttonEl.onclick = () => {\n",
              "        google.colab.notebook.generateWithVariable('df');\n",
              "      }\n",
              "      })();\n",
              "    </script>\n",
              "  </div>\n",
              "\n",
              "    </div>\n",
              "  </div>\n"
            ],
            "application/vnd.google.colaboratory.intrinsic+json": {
              "type": "dataframe",
              "variable_name": "df",
              "summary": "{\n  \"name\": \"df\",\n  \"rows\": 10,\n  \"fields\": [\n    {\n      \"column\": \"loss\",\n      \"properties\": {\n        \"dtype\": \"number\",\n        \"std\": 0.09432585740021121,\n        \"min\": 0.07078774273395538,\n        \"max\": 0.3825646638870239,\n        \"num_unique_values\": 10,\n        \"samples\": [\n          0.07723770290613174,\n          0.21171934902668,\n          0.10506889224052429\n        ],\n        \"semantic_type\": \"\",\n        \"description\": \"\"\n      }\n    },\n    {\n      \"column\": \"accuracy\",\n      \"properties\": {\n        \"dtype\": \"number\",\n        \"std\": 0.025707783345080948,\n        \"min\": 0.8931296467781067,\n        \"max\": 0.9781666398048401,\n        \"num_unique_values\": 10,\n        \"samples\": [\n          0.975944459438324,\n          0.9386110901832581,\n          0.9682592749595642\n        ],\n        \"semantic_type\": \"\",\n        \"description\": \"\"\n      }\n    },\n    {\n      \"column\": \"val_loss\",\n      \"properties\": {\n        \"dtype\": \"number\",\n        \"std\": 0.030526151828906244,\n        \"min\": 0.10663168132305145,\n        \"max\": 0.20284099876880646,\n        \"num_unique_values\": 10,\n        \"samples\": [\n          0.10663168132305145,\n          0.15653114020824432,\n          0.10736801475286484\n        ],\n        \"semantic_type\": \"\",\n        \"description\": \"\"\n      }\n    },\n    {\n      \"column\": \"val_accuracy\",\n      \"properties\": {\n        \"dtype\": \"number\",\n        \"std\": 0.008067791914146428,\n        \"min\": 0.9426666498184204,\n        \"max\": 0.9695000052452087,\n        \"num_unique_values\": 10,\n        \"samples\": [\n          0.9695000052452087,\n          0.9576666951179504,\n          0.9661666750907898\n        ],\n        \"semantic_type\": \"\",\n        \"description\": \"\"\n      }\n    }\n  ]\n}"
            }
          },
          "metadata": {},
          "execution_count": 17
        }
      ]
    },
    {
      "cell_type": "code",
      "source": [
        "plot_result(df)"
      ],
      "metadata": {
        "colab": {
          "base_uri": "https://localhost:8080/",
          "height": 368
        },
        "id": "-U674e70ZwRd",
        "outputId": "b93c38f4-17bd-40dc-8d6e-8bc0706f4411"
      },
      "execution_count": null,
      "outputs": [
        {
          "output_type": "display_data",
          "data": {
            "text/plain": [
              "<Figure size 900x400 with 2 Axes>"
            ],
            "image/png": "[encoded data removed]"
          },
          "metadata": {}
        }
      ]
    },
    {
      "cell_type": "markdown",
      "source": [
        "エポック数が7以上で、過学習が発生しているため、7程度が適切と考えられる。"
      ],
      "metadata": {
        "id": "Cxgn7_euZsN-"
      }
    },
    {
      "cell_type": "markdown",
      "source": [
        "## 2.3 エポック数=7に変更"
      ],
      "metadata": {
        "id": "Rz9GqkkCZqti"
      }
    },
    {
      "cell_type": "code",
      "source": [
        "model, history = exec_model_fit(x_train, y_train, 28, 28, 32, 10, epochs=7)"
      ],
      "metadata": {
        "colab": {
          "base_uri": "https://localhost:8080/"
        },
        "id": "krGvXreq6QSK",
        "outputId": "9e10470c-d689-4d58-a113-9ceb9f54a568"
      },
      "execution_count": null,
      "outputs": [
        {
          "output_type": "stream",
          "name": "stdout",
          "text": [
            "Epoch 1/7\n",
            "1688/1688 [==============================] - 4s 2ms/step - loss: 0.3826 - accuracy: 0.8931 - val_loss: 0.2028 - val_accuracy: 0.9427\n",
            "Epoch 2/7\n",
            "1688/1688 [==============================] - 3s 2ms/step - loss: 0.2117 - accuracy: 0.9386 - val_loss: 0.1565 - val_accuracy: 0.9577\n",
            "Epoch 3/7\n",
            "1688/1688 [==============================] - 4s 2ms/step - loss: 0.1647 - accuracy: 0.9520 - val_loss: 0.1322 - val_accuracy: 0.9633\n",
            "Epoch 4/7\n",
            "1688/1688 [==============================] - 6s 4ms/step - loss: 0.1375 - accuracy: 0.9592 - val_loss: 0.1246 - val_accuracy: 0.9645\n",
            "Epoch 5/7\n",
            "1688/1688 [==============================] - 3s 2ms/step - loss: 0.1185 - accuracy: 0.9650 - val_loss: 0.1197 - val_accuracy: 0.9623\n",
            "Epoch 6/7\n",
            "1688/1688 [==============================] - 3s 2ms/step - loss: 0.1051 - accuracy: 0.9683 - val_loss: 0.1074 - val_accuracy: 0.9662\n",
            "Epoch 7/7\n",
            "1688/1688 [==============================] - 4s 2ms/step - loss: 0.0932 - accuracy: 0.9718 - val_loss: 0.1121 - val_accuracy: 0.9685\n"
          ]
        }
      ]
    },
    {
      "cell_type": "code",
      "source": [
        "df = pd.DataFrame(history.history)\n",
        "plot_result(df)"
      ],
      "metadata": {
        "colab": {
          "base_uri": "https://localhost:8080/",
          "height": 368
        },
        "id": "OeKOF-MRJaGu",
        "outputId": "04fd47d3-da95-4f31-cc5a-a0e925f10797"
      },
      "execution_count": null,
      "outputs": [
        {
          "output_type": "display_data",
          "data": {
            "text/plain": [
              "<Figure size 900x400 with 2 Axes>"
            ],
            "image/png": "[encoded data removed]"
          },
          "metadata": {}
        }
      ]
    },
    {
      "cell_type": "markdown",
      "source": [
        "## 2.4 正答率の評価"
      ],
      "metadata": {
        "id": "hr9sW-uZmsLJ"
      }
    },
    {
      "cell_type": "code",
      "source": [
        "model.evaluate(x_test, y_test)"
      ],
      "metadata": {
        "colab": {
          "base_uri": "https://localhost:8080/"
        },
        "id": "FP8EfDk_6Qri",
        "outputId": "98c8a7af-7f65-4ced-c0b0-14231c97f674"
      },
      "execution_count": null,
      "outputs": [
        {
          "output_type": "stream",
          "name": "stdout",
          "text": [
            "313/313 [==============================] - 1s 2ms/step - loss: 0.1219 - accuracy: 0.9637\n"
          ]
        },
        {
          "output_type": "execute_result",
          "data": {
            "text/plain": [
              "[0.12194614112377167, 0.963699996471405]"
            ]
          },
          "metadata": {},
          "execution_count": 21
        }
      ]
    },
    {
      "cell_type": "markdown",
      "source": [
        "# 3 未知データの予測"
      ],
      "metadata": {
        "id": "DD-CKGU3m1B5"
      }
    },
    {
      "cell_type": "code",
      "source": [
        "from tensorflow.keras.preprocessing.image import load_img"
      ],
      "metadata": {
        "id": "6NJOeybK6Q4Y"
      },
      "execution_count": null,
      "outputs": []
    },
    {
      "cell_type": "code",
      "source": [
        "unknown_img = load_img('/content/unknown_mnist.png', target_size=(28,28), color_mode = 'grayscale')\n",
        "unknown_img"
      ],
      "metadata": {
        "colab": {
          "base_uri": "https://localhost:8080/",
          "height": 45
        },
        "id": "URNdu4KL6Q_-",
        "outputId": "c45b72ae-965a-4e2b-b945-f8fb37d48335"
      },
      "execution_count": null,
      "outputs": [
        {
          "output_type": "execute_result",
          "data": {
            "text/plain": [
              "<PIL.Image.Image image mode=L size=28x28>"
            ],
            "image/png": "[encoded data removed]"
          },
          "metadata": {},
          "execution_count": 23
        }
      ]
    },
    {
      "cell_type": "code",
      "source": [
        "from tensorflow.keras.preprocessing.image import img_to_array"
      ],
      "metadata": {
        "id": "b1hih1tJL8RE"
      },
      "execution_count": null,
      "outputs": []
    },
    {
      "cell_type": "code",
      "source": [
        "unknown_array = img_to_array(unknown_img)\n",
        "# unknown_array"
      ],
      "metadata": {
        "id": "vKA_PYmCMBzt"
      },
      "execution_count": null,
      "outputs": []
    },
    {
      "cell_type": "code",
      "source": [
        "print(x_train.shape, x_test.shape)"
      ],
      "metadata": {
        "colab": {
          "base_uri": "https://localhost:8080/"
        },
        "id": "0YuddplKMBX9",
        "outputId": "1d89e348-5862-4bf8-9361-bca36132dcd0"
      },
      "execution_count": null,
      "outputs": [
        {
          "output_type": "stream",
          "name": "stdout",
          "text": [
            "(60000, 28, 28) (10000, 28, 28)\n"
          ]
        }
      ]
    },
    {
      "cell_type": "code",
      "source": [
        "unknown_array = unknown_array.reshape((1, 28, 28))\n",
        "unknown_array.shape"
      ],
      "metadata": {
        "colab": {
          "base_uri": "https://localhost:8080/"
        },
        "id": "4vFEIqYkNkRr",
        "outputId": "063c6787-3f2a-440c-9b44-85ee98359e4f"
      },
      "execution_count": null,
      "outputs": [
        {
          "output_type": "execute_result",
          "data": {
            "text/plain": [
              "(1, 28, 28)"
            ]
          },
          "metadata": {},
          "execution_count": 27
        }
      ]
    },
    {
      "cell_type": "code",
      "source": [
        "unknown_array = unknown_array / 225"
      ],
      "metadata": {
        "id": "LHFwgcNvNj_r"
      },
      "execution_count": null,
      "outputs": []
    },
    {
      "cell_type": "code",
      "source": [
        "result = model.predict(unknown_array)"
      ],
      "metadata": {
        "colab": {
          "base_uri": "https://localhost:8080/"
        },
        "id": "OgrbgZMtN7tJ",
        "outputId": "eb788b4f-4888-4823-dac9-cf8a734ada7f"
      },
      "execution_count": null,
      "outputs": [
        {
          "output_type": "stream",
          "name": "stdout",
          "text": [
            "1/1 [==============================] - 0s 116ms/step\n"
          ]
        }
      ]
    },
    {
      "cell_type": "code",
      "source": [
        "sns.barplot(x=[0,1,2,3,4,5,6,7,8,9], y=result[0])"
      ],
      "metadata": {
        "colab": {
          "base_uri": "https://localhost:8080/",
          "height": 448
        },
        "id": "8qBsvaISN7gf",
        "outputId": "1fe7ebfb-4931-4be3-f692-152fde04fd82"
      },
      "execution_count": null,
      "outputs": [
        {
          "output_type": "execute_result",
          "data": {
            "text/plain": [
              "<Axes: >"
            ]
          },
          "metadata": {},
          "execution_count": 30
        },
        {
          "output_type": "display_data",
          "data": {
            "text/plain": [
              "<Figure size 640x480 with 1 Axes>"
            ],
            "image/png": "[encoded data removed]"
          },
          "metadata": {}
        }
      ]
    },
    {
      "cell_type": "markdown",
      "source": [
        "# 4 隠れ層のノードを32から256にした場合\n",
        "- エポック数の適正値は約3と考えられる\n",
        "- 32よりもaccuracyのスコアが向上\n",
        "- 少ないエポック数で学習が完了"
      ],
      "metadata": {
        "id": "cOvA77TRouWs"
      }
    },
    {
      "cell_type": "code",
      "source": [
        "model, history = exec_model_fit(x_train, y_train, 28, 28, 256, 10, epochs=7)"
      ],
      "metadata": {
        "colab": {
          "base_uri": "https://localhost:8080/"
        },
        "id": "JZuEoG4aeSaN",
        "outputId": "e9b15600-f6af-4333-bd9a-7d2fa2dc48cf"
      },
      "execution_count": null,
      "outputs": [
        {
          "output_type": "stream",
          "name": "stdout",
          "text": [
            "Epoch 1/7\n",
            "1688/1688 [==============================] - 10s 6ms/step - loss: 0.2432 - accuracy: 0.9294 - val_loss: 0.1116 - val_accuracy: 0.9700\n",
            "Epoch 2/7\n",
            "1688/1688 [==============================] - 8s 4ms/step - loss: 0.1008 - accuracy: 0.9695 - val_loss: 0.0804 - val_accuracy: 0.9763\n",
            "Epoch 3/7\n",
            "1688/1688 [==============================] - 9s 5ms/step - loss: 0.0655 - accuracy: 0.9800 - val_loss: 0.0846 - val_accuracy: 0.9743\n",
            "Epoch 4/7\n",
            "1688/1688 [==============================] - 7s 4ms/step - loss: 0.0462 - accuracy: 0.9855 - val_loss: 0.0742 - val_accuracy: 0.9800\n",
            "Epoch 5/7\n",
            "1688/1688 [==============================] - 7s 4ms/step - loss: 0.0350 - accuracy: 0.9895 - val_loss: 0.0760 - val_accuracy: 0.9788\n",
            "Epoch 6/7\n",
            "1688/1688 [==============================] - 6s 4ms/step - loss: 0.0271 - accuracy: 0.9911 - val_loss: 0.0750 - val_accuracy: 0.9803\n",
            "Epoch 7/7\n",
            "1688/1688 [==============================] - 7s 4ms/step - loss: 0.0201 - accuracy: 0.9935 - val_loss: 0.0752 - val_accuracy: 0.9815\n"
          ]
        }
      ]
    },
    {
      "cell_type": "code",
      "source": [
        "df = pd.DataFrame(history.history)\n",
        "df"
      ],
      "metadata": {
        "colab": {
          "base_uri": "https://localhost:8080/",
          "height": 269
        },
        "id": "BzkKaSg1PE0q",
        "outputId": "51248260-d903-4a02-905d-1925533d06dd"
      },
      "execution_count": null,
      "outputs": [
        {
          "output_type": "execute_result",
          "data": {
            "text/plain": [
              "       loss  accuracy  val_loss  val_accuracy\n",
              "0  0.243152  0.929352  0.111573      0.970000\n",
              "1  0.100810  0.969463  0.080439      0.976333\n",
              "2  0.065491  0.980037  0.084551      0.974333\n",
              "3  0.046204  0.985463  0.074153      0.980000\n",
              "4  0.034986  0.989537  0.075998      0.978833\n",
              "5  0.027057  0.991093  0.074971      0.980333\n",
              "6  0.020065  0.993463  0.075165      0.981500"
            ],
            "text/html": [
              "\n",
              "  <div id=\"df-2f1bcd2c-5eab-44cc-900c-e78fd10eac15\" class=\"colab-df-container\">\n",
              "    <div>\n",
              "<style scoped>\n",
              "    .dataframe tbody tr th:only-of-type {\n",
              "        vertical-align: middle;\n",
              "    }\n",
              "\n",
              "    .dataframe tbody tr th {\n",
              "        vertical-align: top;\n",
              "    }\n",
              "\n",
              "    .dataframe thead th {\n",
              "        text-align: right;\n",
              "    }\n",
              "</style>\n",
              "<table border=\"1\" class=\"dataframe\">\n",
              "  <thead>\n",
              "    <tr style=\"text-align: right;\">\n",
              "      <th></th>\n",
              "      <th>loss</th>\n",
              "      <th>accuracy</th>\n",
              "      <th>val_loss</th>\n",
              "      <th>val_accuracy</th>\n",
              "    </tr>\n",
              "  </thead>\n",
              "  <tbody>\n",
              "    <tr>\n",
              "      <th>0</th>\n",
              "      <td>0.243152</td>\n",
              "      <td>0.929352</td>\n",
              "      <td>0.111573</td>\n",
              "      <td>0.970000</td>\n",
              "    </tr>\n",
              "    <tr>\n",
              "      <th>1</th>\n",
              "      <td>0.100810</td>\n",
              "      <td>0.969463</td>\n",
              "      <td>0.080439</td>\n",
              "      <td>0.976333</td>\n",
              "    </tr>\n",
              "    <tr>\n",
              "      <th>2</th>\n",
              "      <td>0.065491</td>\n",
              "      <td>0.980037</td>\n",
              "      <td>0.084551</td>\n",
              "      <td>0.974333</td>\n",
              "    </tr>\n",
              "    <tr>\n",
              "      <th>3</th>\n",
              "      <td>0.046204</td>\n",
              "      <td>0.985463</td>\n",
              "      <td>0.074153</td>\n",
              "      <td>0.980000</td>\n",
              "    </tr>\n",
              "    <tr>\n",
              "      <th>4</th>\n",
              "      <td>0.034986</td>\n",
              "      <td>0.989537</td>\n",
              "      <td>0.075998</td>\n",
              "      <td>0.978833</td>\n",
              "    </tr>\n",
              "    <tr>\n",
              "      <th>5</th>\n",
              "      <td>0.027057</td>\n",
              "      <td>0.991093</td>\n",
              "      <td>0.074971</td>\n",
              "      <td>0.980333</td>\n",
              "    </tr>\n",
              "    <tr>\n",
              "      <th>6</th>\n",
              "      <td>0.020065</td>\n",
              "      <td>0.993463</td>\n",
              "      <td>0.075165</td>\n",
              "      <td>0.981500</td>\n",
              "    </tr>\n",
              "  </tbody>\n",
              "</table>\n",
              "</div>\n",
              "    <div class=\"colab-df-buttons\">\n",
              "\n",
              "  <div class=\"colab-df-container\">\n",
              "    <button class=\"colab-df-convert\" onclick=\"convertToInteractive('df-2f1bcd2c-5eab-44cc-900c-e78fd10eac15')\"\n",
              "            title=\"Convert this dataframe to an interactive table.\"\n",
              "            style=\"display:none;\">\n",
              "\n",
              "  <svg xmlns=\"http://www.w3.org/2000/svg\" height=\"24px\" viewBox=\"0 -960 960 960\">\n",
              "    <path d=\"M120-120v-720h720v720H120Zm60-500h600v-160H180v160Zm220 220h160v-160H400v160Zm0 220h160v-160H400v160ZM180-400h160v-160H180v160Zm440 0h160v-160H620v160ZM180-180h160v-160H180v160Zm440 0h160v-160H620v160Z\"/>\n",
              "  </svg>\n",
              "    </button>\n",
              "\n",
              "  <style>\n",
              "    .colab-df-container {\n",
              "      display:flex;\n",
              "      gap: 12px;\n",
              "    }\n",
              "\n",
              "    .colab-df-convert {\n",
              "      background-color: #E8F0FE;\n",
              "      border: none;\n",
              "      border-radius: 50%;\n",
              "      cursor: pointer;\n",
              "      display: none;\n",
              "      fill: #1967D2;\n",
              "      height: 32px;\n",
              "      padding: 0 0 0 0;\n",
              "      width: 32px;\n",
              "    }\n",
              "\n",
              "    .colab-df-convert:hover {\n",
              "      background-color: #E2EBFA;\n",
              "      box-shadow: 0px 1px 2px rgba(60, 64, 67, 0.3), 0px 1px 3px 1px rgba(60, 64, 67, 0.15);\n",
              "      fill: #174EA6;\n",
              "    }\n",
              "\n",
              "    .colab-df-buttons div {\n",
              "      margin-bottom: 4px;\n",
              "    }\n",
              "\n",
              "    [theme=dark] .colab-df-convert {\n",
              "      background-color: #3B4455;\n",
              "      fill: #D2E3FC;\n",
              "    }\n",
              "\n",
              "    [theme=dark] .colab-df-convert:hover {\n",
              "      background-color: #434B5C;\n",
              "      box-shadow: 0px 1px 3px 1px rgba(0, 0, 0, 0.15);\n",
              "      filter: drop-shadow(0px 1px 2px rgba(0, 0, 0, 0.3));\n",
              "      fill: #FFFFFF;\n",
              "    }\n",
              "  </style>\n",
              "\n",
              "    <script>\n",
              "      const buttonEl =\n",
              "        document.querySelector('#df-2f1bcd2c-5eab-44cc-900c-e78fd10eac15 button.colab-df-convert');\n",
              "      buttonEl.style.display =\n",
              "        google.colab.kernel.accessAllowed ? 'block' : 'none';\n",
              "\n",
              "      async function convertToInteractive(key) {\n",
              "        const element = document.querySelector('#df-2f1bcd2c-5eab-44cc-900c-e78fd10eac15');\n",
              "        const dataTable =\n",
              "          await google.colab.kernel.invokeFunction('convertToInteractive',\n",
              "                                                    [key], {});\n",
              "        if (!dataTable) return;\n",
              "\n",
              "        const docLinkHtml = 'Like what you see? Visit the ' +\n",
              "          '<a target=\"_blank\" href=https://colab.research.google.com/notebooks/data_table.ipynb>data table notebook</a>'\n",
              "          + ' to learn more about interactive tables.';\n",
              "        element.innerHTML = '';\n",
              "        dataTable['output_type'] = 'display_data';\n",
              "        await google.colab.output.renderOutput(dataTable, element);\n",
              "        const docLink = document.createElement('div');\n",
              "        docLink.innerHTML = docLinkHtml;\n",
              "        element.appendChild(docLink);\n",
              "      }\n",
              "    </script>\n",
              "  </div>\n",
              "\n",
              "\n",
              "<div id=\"df-b4a787ef-587c-41bb-b928-2b707258f714\">\n",
              "  <button class=\"colab-df-quickchart\" onclick=\"quickchart('df-b4a787ef-587c-41bb-b928-2b707258f714')\"\n",
              "            title=\"Suggest charts\"\n",
              "            style=\"display:none;\">\n",
              "\n",
              "<svg xmlns=\"http://www.w3.org/2000/svg\" height=\"24px\"viewBox=\"0 0 24 24\"\n",
              "     width=\"24px\">\n",
              "    <g>\n",
              "        <path d=\"M19 3H5c-1.1 0-2 .9-2 2v14c0 1.1.9 2 2 2h14c1.1 0 2-.9 2-2V5c0-1.1-.9-2-2-2zM9 17H7v-7h2v7zm4 0h-2V7h2v10zm4 0h-2v-4h2v4z\"/>\n",
              "    </g>\n",
              "</svg>\n",
              "  </button>\n",
              "\n",
              "<style>\n",
              "  .colab-df-quickchart {\n",
              "      --bg-color: #E8F0FE;\n",
              "      --fill-color: #1967D2;\n",
              "      --hover-bg-color: #E2EBFA;\n",
              "      --hover-fill-color: #174EA6;\n",
              "      --disabled-fill-color: #AAA;\n",
              "      --disabled-bg-color: #DDD;\n",
              "  }\n",
              "\n",
              "  [theme=dark] .colab-df-quickchart {\n",
              "      --bg-color: #3B4455;\n",
              "      --fill-color: #D2E3FC;\n",
              "      --hover-bg-color: #434B5C;\n",
              "      --hover-fill-color: #FFFFFF;\n",
              "      --disabled-bg-color: #3B4455;\n",
              "      --disabled-fill-color: #666;\n",
              "  }\n",
              "\n",
              "  .colab-df-quickchart {\n",
              "    background-color: var(--bg-color);\n",
              "    border: none;\n",
              "    border-radius: 50%;\n",
              "    cursor: pointer;\n",
              "    display: none;\n",
              "    fill: var(--fill-color);\n",
              "    height: 32px;\n",
              "    padding: 0;\n",
              "    width: 32px;\n",
              "  }\n",
              "\n",
              "  .colab-df-quickchart:hover {\n",
              "    background-color: var(--hover-bg-color);\n",
              "    box-shadow: 0 1px 2px rgba(60, 64, 67, 0.3), 0 1px 3px 1px rgba(60, 64, 67, 0.15);\n",
              "    fill: var(--button-hover-fill-color);\n",
              "  }\n",
              "\n",
              "  .colab-df-quickchart-complete:disabled,\n",
              "  .colab-df-quickchart-complete:disabled:hover {\n",
              "    background-color: var(--disabled-bg-color);\n",
              "    fill: var(--disabled-fill-color);\n",
              "    box-shadow: none;\n",
              "  }\n",
              "\n",
              "  .colab-df-spinner {\n",
              "    border: 2px solid var(--fill-color);\n",
              "    border-color: transparent;\n",
              "    border-bottom-color: var(--fill-color);\n",
              "    animation:\n",
              "      spin 1s steps(1) infinite;\n",
              "  }\n",
              "\n",
              "  @keyframes spin {\n",
              "    0% {\n",
              "      border-color: transparent;\n",
              "      border-bottom-color: var(--fill-color);\n",
              "      border-left-color: var(--fill-color);\n",
              "    }\n",
              "    20% {\n",
              "      border-color: transparent;\n",
              "      border-left-color: var(--fill-color);\n",
              "      border-top-color: var(--fill-color);\n",
              "    }\n",
              "    30% {\n",
              "      border-color: transparent;\n",
              "      border-left-color: var(--fill-color);\n",
              "      border-top-color: var(--fill-color);\n",
              "      border-right-color: var(--fill-color);\n",
              "    }\n",
              "    40% {\n",
              "      border-color: transparent;\n",
              "      border-right-color: var(--fill-color);\n",
              "      border-top-color: var(--fill-color);\n",
              "    }\n",
              "    60% {\n",
              "      border-color: transparent;\n",
              "      border-right-color: var(--fill-color);\n",
              "    }\n",
              "    80% {\n",
              "      border-color: transparent;\n",
              "      border-right-color: var(--fill-color);\n",
              "      border-bottom-color: var(--fill-color);\n",
              "    }\n",
              "    90% {\n",
              "      border-color: transparent;\n",
              "      border-bottom-color: var(--fill-color);\n",
              "    }\n",
              "  }\n",
              "</style>\n",
              "\n",
              "  <script>\n",
              "    async function quickchart(key) {\n",
              "      const quickchartButtonEl =\n",
              "        document.querySelector('#' + key + ' button');\n",
              "      quickchartButtonEl.disabled = true;  // To prevent multiple clicks.\n",
              "      quickchartButtonEl.classList.add('colab-df-spinner');\n",
              "      try {\n",
              "        const charts = await google.colab.kernel.invokeFunction(\n",
              "            'suggestCharts', [key], {});\n",
              "      } catch (error) {\n",
              "        console.error('Error during call to suggestCharts:', error);\n",
              "      }\n",
              "      quickchartButtonEl.classList.remove('colab-df-spinner');\n",
              "      quickchartButtonEl.classList.add('colab-df-quickchart-complete');\n",
              "    }\n",
              "    (() => {\n",
              "      let quickchartButtonEl =\n",
              "        document.querySelector('#df-b4a787ef-587c-41bb-b928-2b707258f714 button');\n",
              "      quickchartButtonEl.style.display =\n",
              "        google.colab.kernel.accessAllowed ? 'block' : 'none';\n",
              "    })();\n",
              "  </script>\n",
              "</div>\n",
              "\n",
              "  <div id=\"id_9c84470b-6e44-429a-a914-6b26bb7abd28\">\n",
              "    <style>\n",
              "      .colab-df-generate {\n",
              "        background-color: #E8F0FE;\n",
              "        border: none;\n",
              "        border-radius: 50%;\n",
              "        cursor: pointer;\n",
              "        display: none;\n",
              "        fill: #1967D2;\n",
              "        height: 32px;\n",
              "        padding: 0 0 0 0;\n",
              "        width: 32px;\n",
              "      }\n",
              "\n",
              "      .colab-df-generate:hover {\n",
              "        background-color: #E2EBFA;\n",
              "        box-shadow: 0px 1px 2px rgba(60, 64, 67, 0.3), 0px 1px 3px 1px rgba(60, 64, 67, 0.15);\n",
              "        fill: #174EA6;\n",
              "      }\n",
              "\n",
              "      [theme=dark] .colab-df-generate {\n",
              "        background-color: #3B4455;\n",
              "        fill: #D2E3FC;\n",
              "      }\n",
              "\n",
              "      [theme=dark] .colab-df-generate:hover {\n",
              "        background-color: #434B5C;\n",
              "        box-shadow: 0px 1px 3px 1px rgba(0, 0, 0, 0.15);\n",
              "        filter: drop-shadow(0px 1px 2px rgba(0, 0, 0, 0.3));\n",
              "        fill: #FFFFFF;\n",
              "      }\n",
              "    </style>\n",
              "    <button class=\"colab-df-generate\" onclick=\"generateWithVariable('df')\"\n",
              "            title=\"Generate code using this dataframe.\"\n",
              "            style=\"display:none;\">\n",
              "\n",
              "  <svg xmlns=\"http://www.w3.org/2000/svg\" height=\"24px\"viewBox=\"0 0 24 24\"\n",
              "       width=\"24px\">\n",
              "    <path d=\"M7,19H8.4L18.45,9,17,7.55,7,17.6ZM5,21V16.75L18.45,3.32a2,2,0,0,1,2.83,0l1.4,1.43a1.91,1.91,0,0,1,.58,1.4,1.91,1.91,0,0,1-.58,1.4L9.25,21ZM18.45,9,17,7.55Zm-12,3A5.31,5.31,0,0,0,4.9,8.1,5.31,5.31,0,0,0,1,6.5,5.31,5.31,0,0,0,4.9,4.9,5.31,5.31,0,0,0,6.5,1,5.31,5.31,0,0,0,8.1,4.9,5.31,5.31,0,0,0,12,6.5,5.46,5.46,0,0,0,6.5,12Z\"/>\n",
              "  </svg>\n",
              "    </button>\n",
              "    <script>\n",
              "      (() => {\n",
              "      const buttonEl =\n",
              "        document.querySelector('#id_9c84470b-6e44-429a-a914-6b26bb7abd28 button.colab-df-generate');\n",
              "      buttonEl.style.display =\n",
              "        google.colab.kernel.accessAllowed ? 'block' : 'none';\n",
              "\n",
              "      buttonEl.onclick = () => {\n",
              "        google.colab.notebook.generateWithVariable('df');\n",
              "      }\n",
              "      })();\n",
              "    </script>\n",
              "  </div>\n",
              "\n",
              "    </div>\n",
              "  </div>\n"
            ],
            "application/vnd.google.colaboratory.intrinsic+json": {
              "type": "dataframe",
              "variable_name": "df",
              "summary": "{\n  \"name\": \"df\",\n  \"rows\": 7,\n  \"fields\": [\n    {\n      \"column\": \"loss\",\n      \"properties\": {\n        \"dtype\": \"number\",\n        \"std\": 0.07826796305374183,\n        \"min\": 0.0200651902705431,\n        \"max\": 0.24315248429775238,\n        \"num_unique_values\": 7,\n        \"samples\": [\n          0.24315248429775238,\n          0.10081043839454651,\n          0.02705734595656395\n        ],\n        \"semantic_type\": \"\",\n        \"description\": \"\"\n      }\n    },\n    {\n      \"column\": \"accuracy\",\n      \"properties\": {\n        \"dtype\": \"number\",\n        \"std\": 0.022489834452773604,\n        \"min\": 0.9293518662452698,\n        \"max\": 0.9934629797935486,\n        \"num_unique_values\": 7,\n        \"samples\": [\n          0.9293518662452698,\n          0.9694629907608032,\n          0.9910926222801208\n        ],\n        \"semantic_type\": \"\",\n        \"description\": \"\"\n      }\n    },\n    {\n      \"column\": \"val_loss\",\n      \"properties\": {\n        \"dtype\": \"number\",\n        \"std\": 0.013391892583315714,\n        \"min\": 0.07415347546339035,\n        \"max\": 0.11157295852899551,\n        \"num_unique_values\": 7,\n        \"samples\": [\n          0.11157295852899551,\n          0.08043892681598663,\n          0.07497099041938782\n        ],\n        \"semantic_type\": \"\",\n        \"description\": \"\"\n      }\n    },\n    {\n      \"column\": \"val_accuracy\",\n      \"properties\": {\n        \"dtype\": \"number\",\n        \"std\": 0.004072259861422862,\n        \"min\": 0.9700000286102295,\n        \"max\": 0.9815000295639038,\n        \"num_unique_values\": 7,\n        \"samples\": [\n          0.9700000286102295,\n          0.9763333201408386,\n          0.9803333282470703\n        ],\n        \"semantic_type\": \"\",\n        \"description\": \"\"\n      }\n    }\n  ]\n}"
            }
          },
          "metadata": {},
          "execution_count": 32
        }
      ]
    },
    {
      "cell_type": "code",
      "source": [
        "plot_result(df)"
      ],
      "metadata": {
        "colab": {
          "base_uri": "https://localhost:8080/",
          "height": 368
        },
        "id": "gt2h1ztTp5wu",
        "outputId": "b03ee82a-00e8-470b-c106-474a7f127124"
      },
      "execution_count": null,
      "outputs": [
        {
          "output_type": "display_data",
          "data": {
            "text/plain": [
              "<Figure size 900x400 with 2 Axes>"
            ],
            "image/png": "[encoded data removed]"
          },
          "metadata": {}
        }
      ]
    },
    {
      "cell_type": "code",
      "source": [
        "model, history = exec_model_fit(x_train, y_train, 28, 28, 256, 10, epochs=3)"
      ],
      "metadata": {
        "colab": {
          "base_uri": "https://localhost:8080/"
        },
        "id": "6c2C_B9ps0TJ",
        "outputId": "a0fed5b1-ffdd-46c3-e7f8-6b65543ac06a"
      },
      "execution_count": null,
      "outputs": [
        {
          "output_type": "stream",
          "name": "stdout",
          "text": [
            "Epoch 1/7\n",
            "1688/1688 [==============================] - 8s 5ms/step - loss: 0.2432 - accuracy: 0.9294 - val_loss: 0.1116 - val_accuracy: 0.9700\n",
            "Epoch 2/7\n",
            "1688/1688 [==============================] - 7s 4ms/step - loss: 0.1008 - accuracy: 0.9695 - val_loss: 0.0804 - val_accuracy: 0.9763\n",
            "Epoch 3/7\n",
            "1688/1688 [==============================] - 7s 4ms/step - loss: 0.0655 - accuracy: 0.9800 - val_loss: 0.0846 - val_accuracy: 0.9743\n",
            "Epoch 4/7\n",
            "1688/1688 [==============================] - 6s 3ms/step - loss: 0.0462 - accuracy: 0.9855 - val_loss: 0.0742 - val_accuracy: 0.9800\n",
            "Epoch 5/7\n",
            "1688/1688 [==============================] - 7s 4ms/step - loss: 0.0350 - accuracy: 0.9895 - val_loss: 0.0760 - val_accuracy: 0.9788\n",
            "Epoch 6/7\n",
            "1688/1688 [==============================] - 6s 3ms/step - loss: 0.0271 - accuracy: 0.9911 - val_loss: 0.0750 - val_accuracy: 0.9803\n",
            "Epoch 7/7\n",
            "1688/1688 [==============================] - 7s 4ms/step - loss: 0.0201 - accuracy: 0.9935 - val_loss: 0.0752 - val_accuracy: 0.9815\n"
          ]
        }
      ]
    },
    {
      "cell_type": "code",
      "source": [
        "result = model.predict(unknown_array)"
      ],
      "metadata": {
        "colab": {
          "base_uri": "https://localhost:8080/"
        },
        "id": "KvuAlm87tCR-",
        "outputId": "bc5d0609-1c24-42e2-f9ed-880af1deb0ff"
      },
      "execution_count": null,
      "outputs": [
        {
          "output_type": "stream",
          "name": "stdout",
          "text": [
            "1/1 [==============================] - 0s 81ms/step\n"
          ]
        }
      ]
    },
    {
      "cell_type": "code",
      "source": [
        "sns.barplot(x=[0,1,2,3,4,5,6,7,8,9], y=result[0])"
      ],
      "metadata": {
        "id": "595EJyzXeUDH",
        "colab": {
          "base_uri": "https://localhost:8080/",
          "height": 448
        },
        "outputId": "817937ce-59fe-49a9-e1b4-fb37049778eb"
      },
      "execution_count": null,
      "outputs": [
        {
          "output_type": "execute_result",
          "data": {
            "text/plain": [
              "<Axes: >"
            ]
          },
          "metadata": {},
          "execution_count": 36
        },
        {
          "output_type": "display_data",
          "data": {
            "text/plain": [
              "<Figure size 640x480 with 1 Axes>"
            ],
            "image/png": "[encoded data removed]"
          },
          "metadata": {}
        }
      ]
    },
    {
      "cell_type": "markdown",
      "source": [
        "# 5 隠れ層を2層に変更した場合\n",
        "\n",
        "\n",
        "1層目のノード数を256、2層目を32とした\n",
        "\n",
        "- エポック数の適正値は約3と考えられる\n",
        "- 前章の隠れ層254を1層配置した場合と、学習に必要なエポック数、accuracyのスコアに変化はなかった"
      ],
      "metadata": {
        "id": "w8heH-uZr5Qn"
      }
    },
    {
      "cell_type": "code",
      "source": [
        "def exec_model_fit_2_hidden_layer(x_train, y_train, input_shape_row, input_shape_col, hidden_layer_node_1, hidden_layer_node_2, output_layer_node, batch_size=32, epochs=10, validation_split=0.1):\n",
        "    utils.set_random_seed(0)\n",
        "\n",
        "    model = Sequential()\n",
        "    # 入力層　28x28ピクセルのデータを入力\n",
        "\n",
        "    # Flatten()入力データを1次元データに変換する層\n",
        "    model.add(Flatten(input_shape=(input_shape_row, input_shape_col)))\n",
        "\n",
        "    # 隠れ層 活性化関数:ReLU関数(正の値はそのまま、負の値は0に変換)\n",
        "    model.add(Dense(hidden_layer_node_1, activation='relu'))\n",
        "\n",
        "    # 隠れ層を追加\n",
        "    model.add(Dense(hidden_layer_node_2, activation='relu'))\n",
        "\n",
        "    # 出力層 活性化関数:ソフトマックス関数(全てのノード値を足して1にする)\n",
        "    model.add(Dense(output_layer_node, activation='softmax'))\n",
        "\n",
        "    model.compile(loss='categorical_crossentropy',\n",
        "              optimizer='adam',\n",
        "              metrics='accuracy')\n",
        "\n",
        "    history=model.fit(x_train, y_train,\n",
        "                  batch_size=batch_size,\n",
        "                  epochs=epochs,\n",
        "                  validation_split=validation_split)\n",
        "    return model, history"
      ],
      "metadata": {
        "id": "cYyKvs6T5VF2"
      },
      "execution_count": null,
      "outputs": []
    },
    {
      "cell_type": "code",
      "source": [
        "model, history = exec_model_fit_2_hidden_layer(x_train, y_train, 28, 28, hidden_layer_node_1=256, hidden_layer_node_2=32, output_layer_node=10, epochs=7)"
      ],
      "metadata": {
        "colab": {
          "base_uri": "https://localhost:8080/"
        },
        "id": "ouhrOAForfMY",
        "outputId": "80291486-dd87-48c7-a074-4dbf99b182ad"
      },
      "execution_count": null,
      "outputs": [
        {
          "output_type": "stream",
          "name": "stdout",
          "text": [
            "Epoch 1/7\n",
            "1688/1688 [==============================] - 7s 4ms/step - loss: 0.2485 - accuracy: 0.9264 - val_loss: 0.1032 - val_accuracy: 0.9712\n",
            "Epoch 2/7\n",
            "1688/1688 [==============================] - 7s 4ms/step - loss: 0.0996 - accuracy: 0.9697 - val_loss: 0.0772 - val_accuracy: 0.9762\n",
            "Epoch 3/7\n",
            "1688/1688 [==============================] - 6s 4ms/step - loss: 0.0665 - accuracy: 0.9794 - val_loss: 0.0725 - val_accuracy: 0.9797\n",
            "Epoch 4/7\n",
            "1688/1688 [==============================] - 7s 4ms/step - loss: 0.0492 - accuracy: 0.9844 - val_loss: 0.0722 - val_accuracy: 0.9785\n",
            "Epoch 5/7\n",
            "1688/1688 [==============================] - 6s 4ms/step - loss: 0.0378 - accuracy: 0.9877 - val_loss: 0.0802 - val_accuracy: 0.9770\n",
            "Epoch 6/7\n",
            "1688/1688 [==============================] - 7s 4ms/step - loss: 0.0301 - accuracy: 0.9902 - val_loss: 0.0796 - val_accuracy: 0.9797\n",
            "Epoch 7/7\n",
            "1688/1688 [==============================] - 6s 4ms/step - loss: 0.0257 - accuracy: 0.9917 - val_loss: 0.0797 - val_accuracy: 0.9795\n"
          ]
        }
      ]
    },
    {
      "cell_type": "code",
      "source": [
        "df = pd.DataFrame(history.history)\n",
        "plot_result(df)"
      ],
      "metadata": {
        "colab": {
          "base_uri": "https://localhost:8080/",
          "height": 368
        },
        "id": "tQg-zsi5r--D",
        "outputId": "1fd4e118-3f91-449c-9562-eb30fed40e80"
      },
      "execution_count": null,
      "outputs": [
        {
          "output_type": "display_data",
          "data": {
            "text/plain": [
              "<Figure size 900x400 with 2 Axes>"
            ],
            "image/png": "[encoded data removed]"
          },
          "metadata": {}
        }
      ]
    },
    {
      "cell_type": "code",
      "source": [
        "model, history = exec_model_fit_2_hidden_layer(x_train, y_train, 28, 28, hidden_layer_node_1=256, hidden_layer_node_2=32, output_layer_node=10, epochs=3)"
      ],
      "metadata": {
        "colab": {
          "base_uri": "https://localhost:8080/"
        },
        "id": "mq8Xkquiv3IQ",
        "outputId": "0e2e5a71-5ed0-4a4d-b6c6-633066043a1c"
      },
      "execution_count": null,
      "outputs": [
        {
          "output_type": "stream",
          "name": "stdout",
          "text": [
            "Epoch 1/3\n",
            "1688/1688 [==============================] - 14s 8ms/step - loss: 0.2485 - accuracy: 0.9264 - val_loss: 0.1032 - val_accuracy: 0.9712\n",
            "Epoch 2/3\n",
            "1688/1688 [==============================] - 8s 5ms/step - loss: 0.0996 - accuracy: 0.9697 - val_loss: 0.0772 - val_accuracy: 0.9762\n",
            "Epoch 3/3\n",
            "1688/1688 [==============================] - 6s 4ms/step - loss: 0.0665 - accuracy: 0.9794 - val_loss: 0.0725 - val_accuracy: 0.9797\n"
          ]
        }
      ]
    },
    {
      "cell_type": "code",
      "source": [
        "result = model.predict(unknown_array)"
      ],
      "metadata": {
        "colab": {
          "base_uri": "https://localhost:8080/"
        },
        "id": "jkQhdwIGtHgo",
        "outputId": "a8e7ba52-438f-42e2-ae16-caa5623ace35"
      },
      "execution_count": null,
      "outputs": [
        {
          "output_type": "stream",
          "name": "stdout",
          "text": [
            "1/1 [==============================] - 0s 55ms/step\n"
          ]
        }
      ]
    },
    {
      "cell_type": "code",
      "source": [
        "sns.barplot(x=[0,1,2,3,4,5,6,7,8,9], y=result[0])"
      ],
      "metadata": {
        "colab": {
          "base_uri": "https://localhost:8080/",
          "height": 448
        },
        "id": "ts67PVfitySL",
        "outputId": "02c7f442-abcd-4ab2-8e5f-ec0b26155de5"
      },
      "execution_count": null,
      "outputs": [
        {
          "output_type": "execute_result",
          "data": {
            "text/plain": [
              "<Axes: >"
            ]
          },
          "metadata": {},
          "execution_count": 44
        },
        {
          "output_type": "display_data",
          "data": {
            "text/plain": [
              "<Figure size 640x480 with 1 Axes>"
            ],
            "image/png": "[encoded data removed]"
          },
          "metadata": {}
        }
      ]
    },
    {
      "cell_type": "code",
      "source": [],
      "metadata": {
        "id": "FQClsVPUt8wU"
      },
      "execution_count": null,
      "outputs": []
    }
  ]
}