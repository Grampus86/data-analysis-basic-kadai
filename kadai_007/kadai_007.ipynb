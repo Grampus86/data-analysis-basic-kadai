{
 "cells": [
  {
   "cell_type": "markdown",
   "source": [],
   "metadata": {
    "collapsed": false
   }
  },
  {
   "cell_type": "code",
   "execution_count": null,
   "outputs": [],
   "source": [
    "!pip install japanize-matplotlib\n",
    "# ライブラリをインポートする\n",
    "import pandas as pd\n",
    "import matplotlib.pyplot as plt\n",
    "import japanize_matplotlib\n",
    "\n",
    "# csvファイルをデータフレームとして読み込む\n",
    "sample_df = pd.read_csv(\"sample_pandas_6.csv\")\n",
    "category_df = pd.read_csv('category.csv')\n",
    "\n",
    "# データフレームの1列分のユニークな出現頻度をカウント\n",
    "df = pd.merge(sample_df, category_df[['商品番号', 'カテゴリー']], how='inner', on='商品番号')\n",
    "\n",
    "# 集計結果を棒グラフで可視化\n",
    "category = df['カテゴリー'].value_counts()\n",
    "category.plot(kind='bar')\n",
    "plt.show()\n",
    "\n",
    "# 基準列(商品番号列)ごとに要素をグループにまとめ、基本統計量を算出\n",
    "df.groupby('商品番号')['カテゴリー'].describe()"
   ],
   "metadata": {
    "collapsed": false
   }
  }
 ],
 "metadata": {
  "kernelspec": {
   "display_name": "Python 3",
   "language": "python",
   "name": "python3"
  },
  "language_info": {
   "codemirror_mode": {
    "name": "ipython",
    "version": 2
   },
   "file_extension": ".py",
   "mimetype": "text/x-python",
   "name": "python",
   "nbconvert_exporter": "python",
   "pygments_lexer": "ipython2",
   "version": "2.7.6"
  }
 },
 "nbformat": 4,
 "nbformat_minor": 0
}
