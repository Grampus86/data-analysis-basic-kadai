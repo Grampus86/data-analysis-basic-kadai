{
 "cells": [
  {
   "cell_type": "code",
   "execution_count": 29,
   "outputs": [
    {
     "name": "stdout",
     "output_type": "stream",
     "text": [
      "行列の積の計算結果は以下です\n",
      "[[ 4  5  6  7]\n",
      " [12 17 22 27]\n",
      " [20 29 38 47]]\n",
      "行列の要素の最大値は47です\n"
     ]
    }
   ],
   "source": [
    "import numpy as np\n",
    "\n",
    "A = np.array(\n",
    "    [[0, 1],\n",
    "     [2, 3],\n",
    "     [4, 5]])\n",
    "B = np.array(\n",
    "    [[0, 1, 2, 3],\n",
    "     [4, 5, 6, 7]])\n",
    "AB = np.dot(A, B)\n",
    "## 行列の積の計算結果\n",
    "print('行列の積の計算結果は以下です')\n",
    "print(AB)\n",
    "\n",
    "## 最大値の計算結果\n",
    "max_AB = np.max(AB)\n",
    "print(f'行列の要素の最大値は{max_AB}です')"
   ],
   "metadata": {
    "collapsed": false
   }
  },
  {
   "cell_type": "code",
   "execution_count": null,
   "outputs": [],
   "source": [],
   "metadata": {
    "collapsed": false
   }
  }
 ],
 "metadata": {
  "kernelspec": {
   "display_name": "Python 3",
   "language": "python",
   "name": "python3"
  },
  "language_info": {
   "codemirror_mode": {
    "name": "ipython",
    "version": 2
   },
   "file_extension": ".py",
   "mimetype": "text/x-python",
   "name": "python",
   "nbconvert_exporter": "python",
   "pygments_lexer": "ipython2",
   "version": "2.7.6"
  }
 },
 "nbformat": 4,
 "nbformat_minor": 0
}
