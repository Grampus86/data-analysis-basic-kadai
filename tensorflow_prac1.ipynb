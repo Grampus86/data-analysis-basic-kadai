{
 "nbformat": 4,
 "nbformat_minor": 0,
 "metadata": {
  "colab": {
   "provenance": [],
   "toc_visible": true
  },
  "kernelspec": {
   "name": "python3",
   "display_name": "Python 3"
  },
  "language_info": {
   "name": "python"
  }
 },
 "cells": [
  {
   "cell_type": "markdown",
   "source": [
    "# 1 サンプルデータの取得"
   ],
   "metadata": {
    "id": "cMAO6BsF3xhs"
   }
  },
  {
   "cell_type": "markdown",
   "source": [
    "Fashion-MNIST（ファッションエムニスト）と呼ばれる、ファッション関連の画像データのサンプルを取得"
   ],
   "metadata": {
    "id": "y065biRXDfQO"
   }
  },
  {
   "cell_type": "code",
   "execution_count": 1,
   "metadata": {
    "id": "BTUo2x7p1oVQ"
   },
   "outputs": [],
   "source": [
    "import tensorflow as tf\n",
    "\n",
    "data = tf.keras.datasets.fashion_mnist.load_data()"
   ]
  },
  {
   "cell_type": "code",
   "source": [
    "# data"
   ],
   "metadata": {
    "id": "Kkh7IKzjDqoe"
   },
   "execution_count": 2,
   "outputs": []
  },
  {
   "cell_type": "markdown",
   "source": [
    "トレーニングデータとテストデータを取得"
   ],
   "metadata": {
    "id": "bpyAqt1tiKFY"
   }
  },
  {
   "cell_type": "code",
   "source": [
    "(x_train, y_train), (x_test, y_test) = data"
   ],
   "metadata": {
    "id": "9E4sfKdy23U4"
   },
   "execution_count": 3,
   "outputs": []
  },
  {
   "cell_type": "code",
   "source": [
    "x_train.shape, x_test.shape"
   ],
   "metadata": {
    "colab": {
     "base_uri": "https://localhost:8080/"
    },
    "id": "C2xuku8BiObX",
    "outputId": "086ad6ec-f706-4554-f356-c746220746d7"
   },
   "execution_count": 4,
   "outputs": [
    {
     "output_type": "execute_result",
     "data": {
      "text/plain": [
       "((60000, 28, 28), (10000, 28, 28))"
      ]
     },
     "metadata": {},
     "execution_count": 4
    }
   ]
  },
  {
   "cell_type": "markdown",
   "source": [
    "# 2 データ前処理\n"
   ],
   "metadata": {
    "id": "_d2iFLuO4xgW"
   }
  },
  {
   "cell_type": "markdown",
   "source": [
    "## 2.1 One-hotベクトル\n",
    "\n",
    "1 -> [0,1,0,0,・・・・,0] \\\n",
    "2 -> [0,0,1,0,・・・・,0] \\\n",
    "\n",
    "データ数は60000。ラベルは0~9の10種類でそれぞれに衣料品の種類が割り当てられている。\n"
   ],
   "metadata": {
    "id": "GUgxXhvW5pS9"
   }
  },
  {
   "cell_type": "code",
   "source": [
    "print(y_train, len(y_train), set(y_train))"
   ],
   "metadata": {
    "colab": {
     "base_uri": "https://localhost:8080/"
    },
    "id": "wGTryGLK38cc",
    "outputId": "4457798c-d37f-45ee-b614-97e117f0c91f"
   },
   "execution_count": 5,
   "outputs": [
    {
     "output_type": "stream",
     "name": "stdout",
     "text": [
      "[9 0 0 ... 3 0 5] 60000 {0, 1, 2, 3, 4, 5, 6, 7, 8, 9}\n"
     ]
    }
   ]
  },
  {
   "cell_type": "markdown",
   "source": [
    "データの前処理を行うための便利な関数が含まれている`utils`を使う\n",
    "\n",
    "\n"
   ],
   "metadata": {
    "id": "SU55ETMbkFUD"
   }
  },
  {
   "cell_type": "code",
   "source": [
    "from tensorflow.keras import utils"
   ],
   "metadata": {
    "id": "n1KirZgV4hRN"
   },
   "execution_count": 6,
   "outputs": []
  },
  {
   "cell_type": "code",
   "source": [
    "y_train = utils.to_categorical(y_train)\n",
    "y_train"
   ],
   "metadata": {
    "id": "5wNT4ujK5L0N",
    "colab": {
     "base_uri": "https://localhost:8080/"
    },
    "outputId": "042a39e5-d5c6-4cbe-8250-524acc81f844"
   },
   "execution_count": 7,
   "outputs": [
    {
     "output_type": "execute_result",
     "data": {
      "text/plain": [
       "array([[0., 0., 0., ..., 0., 0., 1.],\n",
       "       [1., 0., 0., ..., 0., 0., 0.],\n",
       "       [1., 0., 0., ..., 0., 0., 0.],\n",
       "       ...,\n",
       "       [0., 0., 0., ..., 0., 0., 0.],\n",
       "       [1., 0., 0., ..., 0., 0., 0.],\n",
       "       [0., 0., 0., ..., 0., 0., 0.]], dtype=float32)"
      ]
     },
     "metadata": {},
     "execution_count": 7
    }
   ]
  },
  {
   "cell_type": "code",
   "source": [
    "y_test = utils.to_categorical(y_test)"
   ],
   "metadata": {
    "id": "Qt6qi7iXFAEM"
   },
   "execution_count": 8,
   "outputs": []
  },
  {
   "cell_type": "markdown",
   "source": [
    "## 2.2 スケーリング\n",
    "\n",
    "画像データの値を255で割る"
   ],
   "metadata": {
    "id": "RgwEU5fu5mkG"
   }
  },
  {
   "cell_type": "code",
   "source": [
    "x_train = x_train / 255\n",
    "x_test = x_test / 255"
   ],
   "metadata": {
    "id": "Zp7zXfpG6gzC"
   },
   "execution_count": 9,
   "outputs": []
  },
  {
   "cell_type": "markdown",
   "source": [
    "# 3 ニューラルネットワーク構造の定義"
   ],
   "metadata": {
    "id": "061WwrZJ66IY"
   }
  },
  {
   "cell_type": "code",
   "source": [
    "from tensorflow.keras.models import Sequential\n",
    "from tensorflow.keras.layers import Flatten, Dense\n",
    "\n"
   ],
   "metadata": {
    "id": "yGIC_Uge6-N9"
   },
   "execution_count": 10,
   "outputs": []
  },
  {
   "cell_type": "markdown",
   "source": [
    "## 3.1 層の定義\n",
    "層を追加する時はaddメゾットで追加する"
   ],
   "metadata": {
    "id": "0QxXchf3k7x5"
   }
  },
  {
   "cell_type": "code",
   "source": [
    "model = Sequential()"
   ],
   "metadata": {
    "id": "agniarQAlMEI"
   },
   "execution_count": 11,
   "outputs": []
  },
  {
   "cell_type": "code",
   "source": [
    "# 入力層　28x28ピクセルのデータを入力\n",
    "# Flatten()入力データを1次元データに変換する層\n",
    "model.add(Flatten(input_shape=(28, 28)))\n",
    "\n",
    "# 隠れ層 ノード数128 活性化関数:ReLU関数(正の値はそのまま、負の値は0に変換)\n",
    "model.add(Dense(128, activation='relu'))\n",
    "\n",
    "# 出力層　ノード数10(=ラベル数) 活性化関数:ソフトマックス関数(全てのノード値を足して1にする)\n",
    "model.add(Dense(10, activation='softmax'))"
   ],
   "metadata": {
    "id": "UwN_VOrg7RI6"
   },
   "execution_count": 12,
   "outputs": []
  },
  {
   "cell_type": "markdown",
   "source": [
    " ## 3.2 モデルの確認"
   ],
   "metadata": {
    "id": "5Ngrv1cym4Mu"
   }
  },
  {
   "cell_type": "code",
   "source": [
    "model.summary()"
   ],
   "metadata": {
    "id": "A09j-D_pjMka",
    "colab": {
     "base_uri": "https://localhost:8080/"
    },
    "outputId": "46a2d0db-2441-4fea-b259-fb928dbf715a"
   },
   "execution_count": 13,
   "outputs": [
    {
     "output_type": "stream",
     "name": "stdout",
     "text": [
      "Model: \"sequential\"\n",
      "_________________________________________________________________\n",
      " Layer (type)                Output Shape              Param #   \n",
      "=================================================================\n",
      " flatten (Flatten)           (None, 784)               0         \n",
      "                                                                 \n",
      " dense (Dense)               (None, 128)               100480    \n",
      "                                                                 \n",
      " dense_1 (Dense)             (None, 10)                1290      \n",
      "                                                                 \n",
      "=================================================================\n",
      "Total params: 101770 (397.54 KB)\n",
      "Trainable params: 101770 (397.54 KB)\n",
      "Non-trainable params: 0 (0.00 Byte)\n",
      "_________________________________________________________________\n"
     ]
    }
   ]
  },
  {
   "cell_type": "markdown",
   "source": [
    "# 4 損失関数、最適化方法、評価指標の設定\n",
    "\n",
    "損失関数：カテゴリ交差エントロピー誤差 \\\n",
    "最適化方法：Adam（アダム） \\\n",
    "評価指標：正解率"
   ],
   "metadata": {
    "id": "GPIuax4ynB0v"
   }
  },
  {
   "cell_type": "code",
   "source": [
    "model.compile(loss='categorical_crossentropy',\n",
    "              optimizer='adam',\n",
    "              metrics='accuracy')"
   ],
   "metadata": {
    "id": "Z0fJ-jcE-tSg"
   },
   "execution_count": 14,
   "outputs": []
  },
  {
   "cell_type": "markdown",
   "source": [
    "# 5 ニューラルネットワークの学習\n",
    "\n",
    "\n",
    "学習データ:60000データ　\\\n",
    "バッチサイズ:32 データセットの分割数\\\n",
    "エポック:5 1エポックあたりのバッチ数は60000/32 = 1875データ"
   ],
   "metadata": {
    "id": "KMZ36YuNnNKc"
   }
  },
  {
   "cell_type": "code",
   "source": [
    "model.fit(x_train, y_train, batch_size=32, epochs=5)"
   ],
   "metadata": {
    "colab": {
     "base_uri": "https://localhost:8080/"
    },
    "id": "WHdMWBEXAVP7",
    "outputId": "d9ec2490-b71c-4bfe-a51d-86f0d5d86a6b"
   },
   "execution_count": 15,
   "outputs": [
    {
     "output_type": "stream",
     "name": "stdout",
     "text": [
      "Epoch 1/5\n",
      "1875/1875 [==============================] - 4s 2ms/step - loss: 0.4981 - accuracy: 0.8253\n",
      "Epoch 2/5\n",
      "1875/1875 [==============================] - 3s 2ms/step - loss: 0.3794 - accuracy: 0.8613\n",
      "Epoch 3/5\n",
      "1875/1875 [==============================] - 4s 2ms/step - loss: 0.3376 - accuracy: 0.8770\n",
      "Epoch 4/5\n",
      "1875/1875 [==============================] - 4s 2ms/step - loss: 0.3141 - accuracy: 0.8846\n",
      "Epoch 5/5\n",
      "1875/1875 [==============================] - 3s 2ms/step - loss: 0.2977 - accuracy: 0.8896\n"
     ]
    },
    {
     "output_type": "execute_result",
     "data": {
      "text/plain": [
       "<keras.src.callbacks.History at 0x7b26310aef80>"
      ]
     },
     "metadata": {},
     "execution_count": 15
    }
   ]
  },
  {
   "cell_type": "markdown",
   "source": [
    "# 6 ニューラルネットワークの評価\n",
    "\n",
    "テストデータを使って、正解率を計算 \\\n",
    "[損失関数, 正解率]"
   ],
   "metadata": {
    "id": "Zw-fp6UyBNt5"
   }
  },
  {
   "cell_type": "code",
   "source": [
    "model.evaluate(x_test, y_test)"
   ],
   "metadata": {
    "colab": {
     "base_uri": "https://localhost:8080/"
    },
    "id": "gEPUPPRhFpil",
    "outputId": "0b5bcb70-c577-43c7-c244-244c07b4b7bd"
   },
   "execution_count": 16,
   "outputs": [
    {
     "output_type": "stream",
     "name": "stdout",
     "text": [
      "313/313 [==============================] - 0s 1ms/step - loss: 0.3648 - accuracy: 0.8669\n"
     ]
    },
    {
     "output_type": "execute_result",
     "data": {
      "text/plain": [
       "[0.364831805229187, 0.8669000267982483]"
      ]
     },
     "metadata": {},
     "execution_count": 16
    }
   ]
  },
  {
   "cell_type": "markdown",
   "source": [
    "# 7 未知データの予測"
   ],
   "metadata": {
    "id": "U_Cz_KmWF8-q"
   }
  },
  {
   "cell_type": "code",
   "source": [
    "from tensorflow.keras.preprocessing.image import load_img"
   ],
   "metadata": {
    "id": "jYSeK4TDWrqE"
   },
   "execution_count": 17,
   "outputs": []
  },
  {
   "cell_type": "markdown",
   "source": [
    "テスト画像データの読み込み"
   ],
   "metadata": {
    "id": "3fPuE7qZodFP"
   }
  },
  {
   "cell_type": "code",
   "source": [
    "img = load_img('/content/unknown_sneaker.png', target_size=(28, 28), color_mode='grayscale')\n",
    "img"
   ],
   "metadata": {
    "colab": {
     "base_uri": "https://localhost:8080/",
     "height": 45
    },
    "id": "1ppwdU2_W2ed",
    "outputId": "316a48c2-d196-414d-c352-c4fc6253fd67"
   },
   "execution_count": 18,
   "outputs": [
    {
     "output_type": "execute_result",
     "data": {
      "text/plain": [
       "<PIL.Image.Image image mode=L size=28x28>"
      ],
      "image/png": "[encoded data removed]"
     },
     "metadata": {},
     "execution_count": 18
    }
   ]
  },
  {
   "cell_type": "code",
   "source": [
    "from tensorflow.keras.preprocessing.image import img_to_array"
   ],
   "metadata": {
    "id": "-angU8tHYA3H"
   },
   "execution_count": 19,
   "outputs": []
  },
  {
   "cell_type": "code",
   "source": [
    "# 画像データをimg_to_array関数で画像をarray形式に変換\n",
    "array = img_to_array(img)\n",
    "# array"
   ],
   "metadata": {
    "id": "9QMTkS5OYXsD"
   },
   "execution_count": 20,
   "outputs": []
  },
  {
   "cell_type": "code",
   "source": [
    "array.shape"
   ],
   "metadata": {
    "colab": {
     "base_uri": "https://localhost:8080/"
    },
    "id": "L20mwFAeYOrP",
    "outputId": "f39323d4-8e0d-418d-86dc-fa1a2430f340"
   },
   "execution_count": 21,
   "outputs": [
    {
     "output_type": "execute_result",
     "data": {
      "text/plain": [
       "(28, 28, 1)"
      ]
     },
     "metadata": {},
     "execution_count": 21
    }
   ]
  },
  {
   "cell_type": "code",
   "source": [
    "print(x_train.shape, x_test.shape)"
   ],
   "metadata": {
    "colab": {
     "base_uri": "https://localhost:8080/"
    },
    "id": "07b3zBwjYmS1",
    "outputId": "20dc3a73-3ecf-4d2a-fc5e-97c8c15f3c8c"
   },
   "execution_count": 22,
   "outputs": [
    {
     "output_type": "stream",
     "name": "stdout",
     "text": [
      "(60000, 28, 28) (10000, 28, 28)\n"
     ]
    }
   ]
  },
  {
   "cell_type": "code",
   "source": [
    "# 画像データの形を変換\n",
    "import numpy as np\n",
    "\n",
    "array = array.reshape((1, 28, 28))\n",
    "array.shape"
   ],
   "metadata": {
    "colab": {
     "base_uri": "https://localhost:8080/"
    },
    "id": "qYiiB8QoY4Lt",
    "outputId": "0c239bcb-1010-4c9b-99bd-38fb7eed4f20"
   },
   "execution_count": 23,
   "outputs": [
    {
     "output_type": "execute_result",
     "data": {
      "text/plain": [
       "(1, 28, 28)"
      ]
     },
     "metadata": {},
     "execution_count": 23
    }
   ]
  },
  {
   "cell_type": "code",
   "source": [
    "# スケーリング\n",
    "array = array / 225"
   ],
   "metadata": {
    "id": "I7jhfuWZZMXJ"
   },
   "execution_count": 24,
   "outputs": []
  },
  {
   "cell_type": "markdown",
   "source": [
    "出力された10の数値のうち最も大きいのは8つ目の要素。\\\n",
    "入力した画像データは、ラベル7（8つ目のラベル）のスニーカーであると予測できる"
   ],
   "metadata": {
    "id": "sEKlPNLlpSK6"
   }
  },
  {
   "cell_type": "code",
   "source": [
    "# 予測\n",
    "model.predict(array)"
   ],
   "metadata": {
    "colab": {
     "base_uri": "https://localhost:8080/"
    },
    "id": "ZWodmsxRZOuk",
    "outputId": "59f3873c-5926-45af-8deb-8682156b099f"
   },
   "execution_count": 25,
   "outputs": [
    {
     "output_type": "stream",
     "name": "stdout",
     "text": [
      "1/1 [==============================] - 0s 67ms/step\n"
     ]
    },
    {
     "output_type": "execute_result",
     "data": {
      "text/plain": [
       "array([[1.2442362e-09, 2.8949987e-10, 6.2720606e-11, 2.3186852e-09,\n",
       "        9.9515389e-11, 7.5595141e-05, 5.6913231e-11, 9.9991369e-01,\n",
       "        1.6403992e-07, 1.0557823e-05]], dtype=float32)"
      ]
     },
     "metadata": {},
     "execution_count": 25
    }
   ]
  },
  {
   "cell_type": "code",
   "source": [],
   "metadata": {
    "id": "b3RGq1siaDl9"
   },
   "execution_count": 25,
   "outputs": []
  }
 ]
}
